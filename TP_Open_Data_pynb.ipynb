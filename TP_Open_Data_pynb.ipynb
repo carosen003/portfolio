{
  "nbformat": 4,
  "nbformat_minor": 0,
  "metadata": {
    "colab": {
      "provenance": [],
      "authorship_tag": "ABX9TyNn1b/zOxXNFws+2MaIjmM7",
      "include_colab_link": true
    },
    "kernelspec": {
      "name": "python3",
      "display_name": "Python 3"
    },
    "language_info": {
      "name": "python"
    }
  },
  "cells": [
    {
      "cell_type": "markdown",
      "metadata": {
        "id": "view-in-github",
        "colab_type": "text"
      },
      "source": [
        "<a href=\"https://colab.research.google.com/github/carosen003/Open-Data/blob/main/TP_Open_Data_pynb.ipynb\" target=\"_parent\"><img src=\"https://colab.research.google.com/assets/colab-badge.svg\" alt=\"Open In Colab\"/></a>"
      ]
    },
    {
      "cell_type": "markdown",
      "source": [
        "# **Marco Legal**\n",
        "\n",
        "\n",
        "**Ley de Protección de Datos Personales Crediticios LEY N° 6.534/2020**\n",
        "\n",
        "\n",
        "Artículo 1 ° .- OBJETO. La presente Ley tiene por objeto garantizar la protección de datos crediticios de toda persona, cualquiera sea su nacionalidad, residencia o domicilio.\n",
        "También se busca regular la actividad de recolección y el acceso a datos de información crediticia, así como la constitución, organización, funcionamiento, derechos, obligaciones y extinción de las personas jurídicas que se dediquen a la obtención y provisión de información crediticia, con el fin de preservar los derechos fundamentales, la intimidad, la autodeterminación informativa, la libertad, la seguridad y el trato justo de las personas, de conformidad con lo establecido en la Constitución Nacional, la presente Ley y los Tratados suscritos y ratificados por la República del Paraguay.\n",
        "\n",
        "\n",
        "Artículo 2 ° .- ÁMBITO DE APLICACIÓN. Esta Ley es de aplicación obligatoria al tratamiento de datos personales en registros públicos o privados recopilados o almacenados en el territorio nacional en sistemas de información, archivos, registros o bases de datos físicos, electrónicos o digitales a través de mecanismos manuales, automatizados o parcialmente automatizados de recolección de datos.\n",
        "\n",
        "\n",
        "Artículo 4 ° .- PROHIBICIÓN. Se prohíbe dar publicidad o difundir datos sensibles de personas que sean explícitamente individualizadas o individualizables.\n",
        "\n",
        "\n",
        "Artículo 5 ° .- DERECHO A LA AUTODETERMINACIÓN INFORMATIVA. Se garantiza a toda persona el acceso a la información y a los datos sobre sí misma, sobre quienes se hallen bajo su patria potestad y sobre personas que acredite se hallen bajo su tutela o curatela, así como sobre sus bienes, que obren en registros oficiales o privados de carácter público o en entidades que suministren información sobre solvencia económica y situación patrimonial, así como conocer el uso que se haga de los mismos o su finalidad y a requerir su acceso, rectificación, cancelación y oposición.\n",
        "\n",
        "\n",
        "**Licencia de Uso de la Información Pública - Decreto 4064 - Ley N. 5282/2014**\n",
        "\n",
        "\n",
        "Licencia de Uso de la Información y los Datos Abiertos Públicos propiedad del Estado Paraguayo.\n",
        "Esta licencia otorga la autorización gratuita, perpetua y no exclusiva de uso y/o transformación de la información y los datos abiertos públicos propiedad del Estado Paraguayo a cualquier persona física o jurídica que haga uso de los mismos. Para efectos de la presente licencia, se entiende por uso y/o transformación autorizada de la información o los datos públicos, las actividades tales como: copia, extracción, reproducción, distribución, comunicación pública, adaptación, transformación y todo aquel uso lícito en cualquier modalidad y bajo cualquier formato, por el plazo máximo permitido por la Ley.\n",
        "\n",
        "\n",
        "Artículo 1.° Objeto. La presente ley reglamenta el artículo 28 de la Constitución Nacional, a fin de garantizar a todas las personas, el efectivo ejercicio del derecho al acceso a la información pública, a través de la implementación de las modalidades, plazos, excepciones y sanciones correspondientes, que promuevan la transparencia del Estado.Ninguna disposición de esta ley podrá ser entendida o utilizarse para negar, menoscabar o limitar la libertad de expresión, la libertad de prensa o la libertad de ejercicio del periodismo.\n",
        "\n",
        "Artículo 2.° Definiciones. A los efectos de esta ley, se entenderán como:\n",
        "1. Fuentes públicas: Son los siguientes organismos:\n",
        "a) El Poder Legislativo, sus Cámaras, comisiones y todos sus órganos administrativos, así como los Parlamentarios del Mercado Común del Sur (MERCOSUR);\n",
        "b) El Poder Ejecutivo, sus ministerios, secretarías y todos los demás órganos administrativos, así como la Procuraduría General de la República y la Policía Nacional;\n",
        "c) El Poder Judicial, el Consejo de la Magistratura, el Jurado de Enjuiciamiento de Magistrados, el Ministerio Público y la Justicia Electoral;.\n",
        "2. Información pública: Aquella producida, obtenida, bajo control o en poder de las fuentes públicas, independientemente de su formato, soporte, fecha de creación, origen, clasificación o procesamiento, salvo que se encuentre establecida como secreta o de carácter reservado por las leyes.\n",
        "Artículo 3.° Difusión. La información pública estará sometida a la publicidad y las fuentes públicas están obligadas a prever la adecuada organización, sistematización, informatización y disponibilidad para que sea difundida en forma permanente, a los efectos de asegurar el más amplio y fácil acceso a los interesados.\n",
        "\n",
        "Artículo 4.° Alcance y gratuidad. Cualquier persona, sin discriminación de ningún tipo, podrá acceder a la información pública, en forma gratuita y sin necesidad alguna de justificar las razones por las que formulan su pedido, conforme al procedimiento establecido en la presente ley.\n",
        "Artículo 5.° Responsabilidad. Aquellos que administren, manipulen, archiven o conserven información pública, serán personalmente responsables por sus acciones u omisiones, que deriven en la ocultación, alteración, pérdida o desmembración de la misma, sin perjuicio de la responsabilidad subsidiaria del Estado.\n",
        "\n",
        "Condiciones de uso y/o transformación de la información o los datos\n",
        "La licencia de uso estará vigente siempre que el usuario cumpla con las\n",
        "siguientes condiciones:\n",
        "* Citar a la fuente pública que proveyó la información o los datos objeto del uso y/o transformación; y que el contenido se rige por la presente licencia.\n",
        "*Citar la fecha de la última actualización de la información o los datos objeto del uso y/o transformación, siempre y cuando esto fuera conocido.\n",
        "*No usar la información pública ni los datos abiertos públicos de forma que sugiera o simule un uso oficial o patrocinado por el Estado Paraguayo.\n",
        "\n",
        "**Regulaciones**\n",
        "\n",
        "**Exclusión de responsabilidad**\n",
        "\n",
        "El uso y/o transformación de la información pública o los datos lo realiza el usuario, bajo su exclusiva responsabilidad y riesgo.\n",
        "En ningún caso la fuente pública proveedora de información o los datos será responsable del uso que el usuario haga de la misma, ni tampoco de ningún daño económico o de cualquier índole que, en forma directa o indirecta, se derive u ocurra a terceros sobre sus bienes, equipos, actividad comercial, datos y aplicaciones, como consecuencia de dicho uso y/o transformación de los datos.\n",
        "\n",
        "\n",
        "**Uruguay**\n",
        "\n",
        "**Ley N° 18381\n",
        "LEY SOBRE EL DERECHO DE ACCESO A LA INFORMACIÓN PÚBLICA**\n",
        "\n",
        "Artículo 1\n",
        " (Objeto de la ley).- La presente ley tiene por objeto promover la transparencia de la función administrativa de todo organismo público, sea o no estatal, y garantizar el derecho fundamental de las personas al acceso a la información pública.\n",
        "\n",
        "Artículo 2\n",
        " (Alcance) .- Se considera información pública toda la que emane o esté en posesión de cualquier organismo público, sea o no estatal, salvo las excepciones o secretos establecidos por ley, así como las informaciones reservadas o confidenciales.\n",
        "\n",
        "Artículo 3\n",
        " (Derecho de acceso a la información pública) .- El acceso a la información pública es un derecho de todas las personas, sin discriminación por razón de nacionalidad o carácter del solicitante, y que se ejerce sin necesidad de justificar las razones por las que se solicita la información.\n",
        "\n",
        "**Diferencias**\n",
        "\n",
        "Fecha de promulgación : La ley de Uruguay fue promulgada en 2008 , mientras que en Paraguay fue promulgada en 2014 , significa unos 6 años mas de avance en comparación con Uruguay en el contexto del acceso a la información pública.\n",
        "Interoperabilidad :Uruguay implementó un mejor enfoque en la gestión de sus datos abierto un uso de Vocabulario llamado DCAT que es diseñado para facilitar interoperabilidad entre catálogos de datos , además que sus datos abiertos alcanzan estándares internacionales mientras que Paraguay se enfoca que los datos sean accesibles y útiles  mediante herramientas específicas y plataformas centradas en visualización de datos\n",
        "Instituciones: Uruguay consolidó la gestión de datos abiertos con una agencia especializada en gobierno electrónico y datos abiertos llamado AGESIC , mientras que Paraguay el MÍTIC lidera las iniciativas de esta gestión\n",
        "\n",
        "\n",
        "Algunos de los principales desafíos que presenta esta implementación de datos abiertos en Paraguay son Actualización y Mantenimiento ya que existen ciertos datos de ciertas categorías que están bastantes desactualizados algunos por más de 12 años , en donde no existen ni si quiera una iniciativa para realizar un estudio o un análisis para actualizar estos datos , además que existen ciertas temporada que el servidor o la página no está disponible o está caída para eso se debería realizar un mantenimiento bastante importante.\n",
        "\n",
        "La mejor oportunidad para mejorar todo esto es que se complete la implementación del Censo ciudadano que se realizó en el 2022 para que se pueda actualizar grandes cantidades de datos que para luego le servirá a la población entera.\n",
        "\n",
        "\n",
        "**Implicaciones éticas y legales**\n",
        "\n",
        "* Considerar las implicaciones éticas del uso del conjunto de datos seleccionado.\n",
        "* Analizar los riesgos potenciales asociados con el uso de los datos, como la\n",
        "discriminación, la privacidad y la seguridad.\n",
        "\n",
        "**Riesgos Potenciales**\n",
        "\n",
        "Discriminacion: El análisis de datos de muertes maternas se podría significativamente discriminar a ciertos grupos demográficos , como ciudades  , departamentos y etnias destacando tasas altas de mortalidad materna generando ciertos estereotipos negativos\n",
        "\n",
        "**Privacidad :** Aunque los datos son 100% anonimos existe siempre una cierta posibilidad de identificación debido a nivel de detalle de ubicacion, zona y etnia que presenta estos datos  , especialmente en comunidades pequeñas\n",
        "Seguridad: El uso de estos datos puede ser malintencionada para sacar en cara de forma de discriminatoria o de acoso a comunidades pequeñas o grupos específicos\n",
        "* Evaluar si el uso del conjunto de datos se ajusta a las leyes y licencias aplicables.\n",
        "El conjuntos de datos seleccionado esta ajustados a las leyes y licencias sobre datos abiertos y personales por los siguientes puntos\n",
        "Visualización Gratuita , abierta y fácil\n",
        "\n",
        "**Formato accessible:**\n",
        "Última fecha de actualización\n",
        "Datos sensibles no publicados como nombre y ubicación del hospital donde ocurrieron las defunciones\n",
        "Datos privados no publicados como lógicamente nombre , dirección específica , edad\n",
        "* Proponer medidas para mitigar los riesgos y garantizar el uso ético y responsable de los\n",
        "datos.\n",
        "*Generar y proporcionar un contexto adecuado en la presentación de los datos para evitar cualquier tipo de interpretación que conlleve al uso no ético y responsable de los datos.Realizar buenas definiciones el contexto y las circunstancias de los datos.\n",
        "*Realizar análisis de impacto sobre privacidad y los riesgos antes de publicar ciertos tipos de datos , para identificar posibles riesgos y desarrollar estrategias para acabarlos.\n",
        "*ReAsegurar que los datos están completamente anonimizados ,aún con datos extras que generen un patrón para prevenir la identificación de individuos específicos\n",
        "\n",
        "\n",
        "\n",
        "\n",
        "\n",
        "\n",
        "\n"
      ],
      "metadata": {
        "id": "eb40UoIkqE1X"
      }
    },
    {
      "cell_type": "markdown",
      "source": [
        "# **Análisis de datos**"
      ],
      "metadata": {
        "id": "GnLITwLTqFj_"
      }
    },
    {
      "cell_type": "markdown",
      "source": [
        "○ El tema de interes fue el sector Salud de nuestro pais en la pagina de datos.gov , en el que el conjunto de datos elejido fue muertes maternales en el pais del 2014 a 2021\n",
        "\n",
        "○ Se procedio a la descarga del csv , y se procedio a la debida limpieza primeramente en el excel de columnas de datos que no servira , luego a la limpieza dentro de la notebook\n",
        "\n",
        "○ Explorar el conjunto de datos utilizando técnicas de análisis descriptivo.\n",
        "\n",
        "○ Identificar patrones y tendencias en los datos.\n",
        "\n",
        "○ Aplicar técnicas de análisis de datos para responder preguntas de investigación\n",
        "relevantes.\n",
        "\n",
        "○ Visualizar los resultados del análisis de datos de manera efectiva.\n"
      ],
      "metadata": {
        "id": "kKSD5mVZOUgb"
      }
    },
    {
      "cell_type": "markdown",
      "source": [
        "**Importacion de librerias**"
      ],
      "metadata": {
        "id": "mVAPA3j0SQZv"
      }
    },
    {
      "cell_type": "code",
      "source": [
        "import pandas as pd\n",
        "import numpy as np\n",
        "import seaborn as sns\n",
        "import matplotlib.pyplot as plt"
      ],
      "metadata": {
        "id": "Ossa3JEntTYt"
      },
      "execution_count": null,
      "outputs": []
    },
    {
      "cell_type": "markdown",
      "source": [
        " **Carga de datos**"
      ],
      "metadata": {
        "id": "-ocV_x2YSYiH"
      }
    },
    {
      "cell_type": "code",
      "source": [
        "from google.colab import files\n",
        "uploaded = files.upload()\n",
        "\n",
        "\n",
        "df = pd.read_csv(\"fallecimiento_maternales.csv\", sep=',')\n",
        "\n",
        "\n"
      ],
      "metadata": {
        "colab": {
          "base_uri": "https://localhost:8080/",
          "height": 71
        },
        "id": "fr-Et9k-tT2V",
        "outputId": "0d8883c8-fc17-4b5c-fa4c-6408f64a985b"
      },
      "execution_count": null,
      "outputs": [
        {
          "output_type": "display_data",
          "data": {
            "text/plain": [
              "<IPython.core.display.HTML object>"
            ],
            "text/html": [
              "\n",
              "     <input type=\"file\" id=\"files-943d2b6f-2e74-428e-b871-3948bd9bca61\" name=\"files[]\" multiple disabled\n",
              "        style=\"border:none\" />\n",
              "     <output id=\"result-943d2b6f-2e74-428e-b871-3948bd9bca61\">\n",
              "      Upload widget is only available when the cell has been executed in the\n",
              "      current browser session. Please rerun this cell to enable.\n",
              "      </output>\n",
              "      <script>// Copyright 2017 Google LLC\n",
              "//\n",
              "// Licensed under the Apache License, Version 2.0 (the \"License\");\n",
              "// you may not use this file except in compliance with the License.\n",
              "// You may obtain a copy of the License at\n",
              "//\n",
              "//      http://www.apache.org/licenses/LICENSE-2.0\n",
              "//\n",
              "// Unless required by applicable law or agreed to in writing, software\n",
              "// distributed under the License is distributed on an \"AS IS\" BASIS,\n",
              "// WITHOUT WARRANTIES OR CONDITIONS OF ANY KIND, either express or implied.\n",
              "// See the License for the specific language governing permissions and\n",
              "// limitations under the License.\n",
              "\n",
              "/**\n",
              " * @fileoverview Helpers for google.colab Python module.\n",
              " */\n",
              "(function(scope) {\n",
              "function span(text, styleAttributes = {}) {\n",
              "  const element = document.createElement('span');\n",
              "  element.textContent = text;\n",
              "  for (const key of Object.keys(styleAttributes)) {\n",
              "    element.style[key] = styleAttributes[key];\n",
              "  }\n",
              "  return element;\n",
              "}\n",
              "\n",
              "// Max number of bytes which will be uploaded at a time.\n",
              "const MAX_PAYLOAD_SIZE = 100 * 1024;\n",
              "\n",
              "function _uploadFiles(inputId, outputId) {\n",
              "  const steps = uploadFilesStep(inputId, outputId);\n",
              "  const outputElement = document.getElementById(outputId);\n",
              "  // Cache steps on the outputElement to make it available for the next call\n",
              "  // to uploadFilesContinue from Python.\n",
              "  outputElement.steps = steps;\n",
              "\n",
              "  return _uploadFilesContinue(outputId);\n",
              "}\n",
              "\n",
              "// This is roughly an async generator (not supported in the browser yet),\n",
              "// where there are multiple asynchronous steps and the Python side is going\n",
              "// to poll for completion of each step.\n",
              "// This uses a Promise to block the python side on completion of each step,\n",
              "// then passes the result of the previous step as the input to the next step.\n",
              "function _uploadFilesContinue(outputId) {\n",
              "  const outputElement = document.getElementById(outputId);\n",
              "  const steps = outputElement.steps;\n",
              "\n",
              "  const next = steps.next(outputElement.lastPromiseValue);\n",
              "  return Promise.resolve(next.value.promise).then((value) => {\n",
              "    // Cache the last promise value to make it available to the next\n",
              "    // step of the generator.\n",
              "    outputElement.lastPromiseValue = value;\n",
              "    return next.value.response;\n",
              "  });\n",
              "}\n",
              "\n",
              "/**\n",
              " * Generator function which is called between each async step of the upload\n",
              " * process.\n",
              " * @param {string} inputId Element ID of the input file picker element.\n",
              " * @param {string} outputId Element ID of the output display.\n",
              " * @return {!Iterable<!Object>} Iterable of next steps.\n",
              " */\n",
              "function* uploadFilesStep(inputId, outputId) {\n",
              "  const inputElement = document.getElementById(inputId);\n",
              "  inputElement.disabled = false;\n",
              "\n",
              "  const outputElement = document.getElementById(outputId);\n",
              "  outputElement.innerHTML = '';\n",
              "\n",
              "  const pickedPromise = new Promise((resolve) => {\n",
              "    inputElement.addEventListener('change', (e) => {\n",
              "      resolve(e.target.files);\n",
              "    });\n",
              "  });\n",
              "\n",
              "  const cancel = document.createElement('button');\n",
              "  inputElement.parentElement.appendChild(cancel);\n",
              "  cancel.textContent = 'Cancel upload';\n",
              "  const cancelPromise = new Promise((resolve) => {\n",
              "    cancel.onclick = () => {\n",
              "      resolve(null);\n",
              "    };\n",
              "  });\n",
              "\n",
              "  // Wait for the user to pick the files.\n",
              "  const files = yield {\n",
              "    promise: Promise.race([pickedPromise, cancelPromise]),\n",
              "    response: {\n",
              "      action: 'starting',\n",
              "    }\n",
              "  };\n",
              "\n",
              "  cancel.remove();\n",
              "\n",
              "  // Disable the input element since further picks are not allowed.\n",
              "  inputElement.disabled = true;\n",
              "\n",
              "  if (!files) {\n",
              "    return {\n",
              "      response: {\n",
              "        action: 'complete',\n",
              "      }\n",
              "    };\n",
              "  }\n",
              "\n",
              "  for (const file of files) {\n",
              "    const li = document.createElement('li');\n",
              "    li.append(span(file.name, {fontWeight: 'bold'}));\n",
              "    li.append(span(\n",
              "        `(${file.type || 'n/a'}) - ${file.size} bytes, ` +\n",
              "        `last modified: ${\n",
              "            file.lastModifiedDate ? file.lastModifiedDate.toLocaleDateString() :\n",
              "                                    'n/a'} - `));\n",
              "    const percent = span('0% done');\n",
              "    li.appendChild(percent);\n",
              "\n",
              "    outputElement.appendChild(li);\n",
              "\n",
              "    const fileDataPromise = new Promise((resolve) => {\n",
              "      const reader = new FileReader();\n",
              "      reader.onload = (e) => {\n",
              "        resolve(e.target.result);\n",
              "      };\n",
              "      reader.readAsArrayBuffer(file);\n",
              "    });\n",
              "    // Wait for the data to be ready.\n",
              "    let fileData = yield {\n",
              "      promise: fileDataPromise,\n",
              "      response: {\n",
              "        action: 'continue',\n",
              "      }\n",
              "    };\n",
              "\n",
              "    // Use a chunked sending to avoid message size limits. See b/62115660.\n",
              "    let position = 0;\n",
              "    do {\n",
              "      const length = Math.min(fileData.byteLength - position, MAX_PAYLOAD_SIZE);\n",
              "      const chunk = new Uint8Array(fileData, position, length);\n",
              "      position += length;\n",
              "\n",
              "      const base64 = btoa(String.fromCharCode.apply(null, chunk));\n",
              "      yield {\n",
              "        response: {\n",
              "          action: 'append',\n",
              "          file: file.name,\n",
              "          data: base64,\n",
              "        },\n",
              "      };\n",
              "\n",
              "      let percentDone = fileData.byteLength === 0 ?\n",
              "          100 :\n",
              "          Math.round((position / fileData.byteLength) * 100);\n",
              "      percent.textContent = `${percentDone}% done`;\n",
              "\n",
              "    } while (position < fileData.byteLength);\n",
              "  }\n",
              "\n",
              "  // All done.\n",
              "  yield {\n",
              "    response: {\n",
              "      action: 'complete',\n",
              "    }\n",
              "  };\n",
              "}\n",
              "\n",
              "scope.google = scope.google || {};\n",
              "scope.google.colab = scope.google.colab || {};\n",
              "scope.google.colab._files = {\n",
              "  _uploadFiles,\n",
              "  _uploadFilesContinue,\n",
              "};\n",
              "})(self);\n",
              "</script> "
            ]
          },
          "metadata": {}
        },
        {
          "output_type": "stream",
          "name": "stdout",
          "text": [
            "Saving fallecimiento_maternales.csv to fallecimiento_maternales.csv\n"
          ]
        }
      ]
    },
    {
      "cell_type": "markdown",
      "source": [
        " **Analisis y limpieza de datos**"
      ],
      "metadata": {
        "id": "J79PN7nrS3rM"
      }
    },
    {
      "cell_type": "code",
      "source": [
        "df.head()"
      ],
      "metadata": {
        "colab": {
          "base_uri": "https://localhost:8080/",
          "height": 206
        },
        "id": "JBgV7uzkS3UN",
        "outputId": "fb861998-6ae9-41ba-ba65-3566b12e0328"
      },
      "execution_count": null,
      "outputs": [
        {
          "output_type": "execute_result",
          "data": {
            "text/plain": [
              "     fechadef   ano  mes nombre_mes departamento    zona  \\\n",
              "0  19/01/2014  2014    1        ene      amambay  urbana   \n",
              "1  26/01/2014  2014    1        ene      central   rural   \n",
              "2  06/02/2014  2014    2        feb   concepcion  urbana   \n",
              "3  08/02/2014  2014    2        feb      central   rural   \n",
              "4  01/03/2014  2014    3        mar      central  urbana   \n",
              "\n",
              "          sitio_defuncion  edad      nivel_educación estado_civil  \\\n",
              "0     institucion privada    26  secundaria completa       casado   \n",
              "1  institución del mspybs    30              no sabe      soltero   \n",
              "2  institución del mspybs    17              ninguno       casado   \n",
              "3  institución del mspybs    39    primaria completa      soltero   \n",
              "4  institución del mspybs    26  secundaria completa      soltero   \n",
              "\n",
              "          profesional                                       causa básica  \n",
              "0  medico no tratante             otras hemorragias postparto inmediatas  \n",
              "1  medico no tratante  otro aborto completo o no especificado, compli...  \n",
              "2  medico no tratante                           eclampsia en el embarazo  \n",
              "3  medico no tratante  aborto no especificado completo o no especific...  \n",
              "4  medico no tratante  otras enfermedades especificadas y afecciones ...  "
            ],
            "text/html": [
              "\n",
              "  <div id=\"df-b56e5370-b011-4110-b820-5dd60118420b\" class=\"colab-df-container\">\n",
              "    <div>\n",
              "<style scoped>\n",
              "    .dataframe tbody tr th:only-of-type {\n",
              "        vertical-align: middle;\n",
              "    }\n",
              "\n",
              "    .dataframe tbody tr th {\n",
              "        vertical-align: top;\n",
              "    }\n",
              "\n",
              "    .dataframe thead th {\n",
              "        text-align: right;\n",
              "    }\n",
              "</style>\n",
              "<table border=\"1\" class=\"dataframe\">\n",
              "  <thead>\n",
              "    <tr style=\"text-align: right;\">\n",
              "      <th></th>\n",
              "      <th>fechadef</th>\n",
              "      <th>ano</th>\n",
              "      <th>mes</th>\n",
              "      <th>nombre_mes</th>\n",
              "      <th>departamento</th>\n",
              "      <th>zona</th>\n",
              "      <th>sitio_defuncion</th>\n",
              "      <th>edad</th>\n",
              "      <th>nivel_educación</th>\n",
              "      <th>estado_civil</th>\n",
              "      <th>profesional</th>\n",
              "      <th>causa básica</th>\n",
              "    </tr>\n",
              "  </thead>\n",
              "  <tbody>\n",
              "    <tr>\n",
              "      <th>0</th>\n",
              "      <td>19/01/2014</td>\n",
              "      <td>2014</td>\n",
              "      <td>1</td>\n",
              "      <td>ene</td>\n",
              "      <td>amambay</td>\n",
              "      <td>urbana</td>\n",
              "      <td>institucion privada</td>\n",
              "      <td>26</td>\n",
              "      <td>secundaria completa</td>\n",
              "      <td>casado</td>\n",
              "      <td>medico no tratante</td>\n",
              "      <td>otras hemorragias postparto inmediatas</td>\n",
              "    </tr>\n",
              "    <tr>\n",
              "      <th>1</th>\n",
              "      <td>26/01/2014</td>\n",
              "      <td>2014</td>\n",
              "      <td>1</td>\n",
              "      <td>ene</td>\n",
              "      <td>central</td>\n",
              "      <td>rural</td>\n",
              "      <td>institución del mspybs</td>\n",
              "      <td>30</td>\n",
              "      <td>no sabe</td>\n",
              "      <td>soltero</td>\n",
              "      <td>medico no tratante</td>\n",
              "      <td>otro aborto completo o no especificado, compli...</td>\n",
              "    </tr>\n",
              "    <tr>\n",
              "      <th>2</th>\n",
              "      <td>06/02/2014</td>\n",
              "      <td>2014</td>\n",
              "      <td>2</td>\n",
              "      <td>feb</td>\n",
              "      <td>concepcion</td>\n",
              "      <td>urbana</td>\n",
              "      <td>institución del mspybs</td>\n",
              "      <td>17</td>\n",
              "      <td>ninguno</td>\n",
              "      <td>casado</td>\n",
              "      <td>medico no tratante</td>\n",
              "      <td>eclampsia en el embarazo</td>\n",
              "    </tr>\n",
              "    <tr>\n",
              "      <th>3</th>\n",
              "      <td>08/02/2014</td>\n",
              "      <td>2014</td>\n",
              "      <td>2</td>\n",
              "      <td>feb</td>\n",
              "      <td>central</td>\n",
              "      <td>rural</td>\n",
              "      <td>institución del mspybs</td>\n",
              "      <td>39</td>\n",
              "      <td>primaria completa</td>\n",
              "      <td>soltero</td>\n",
              "      <td>medico no tratante</td>\n",
              "      <td>aborto no especificado completo o no especific...</td>\n",
              "    </tr>\n",
              "    <tr>\n",
              "      <th>4</th>\n",
              "      <td>01/03/2014</td>\n",
              "      <td>2014</td>\n",
              "      <td>3</td>\n",
              "      <td>mar</td>\n",
              "      <td>central</td>\n",
              "      <td>urbana</td>\n",
              "      <td>institución del mspybs</td>\n",
              "      <td>26</td>\n",
              "      <td>secundaria completa</td>\n",
              "      <td>soltero</td>\n",
              "      <td>medico no tratante</td>\n",
              "      <td>otras enfermedades especificadas y afecciones ...</td>\n",
              "    </tr>\n",
              "  </tbody>\n",
              "</table>\n",
              "</div>\n",
              "    <div class=\"colab-df-buttons\">\n",
              "\n",
              "  <div class=\"colab-df-container\">\n",
              "    <button class=\"colab-df-convert\" onclick=\"convertToInteractive('df-b56e5370-b011-4110-b820-5dd60118420b')\"\n",
              "            title=\"Convert this dataframe to an interactive table.\"\n",
              "            style=\"display:none;\">\n",
              "\n",
              "  <svg xmlns=\"http://www.w3.org/2000/svg\" height=\"24px\" viewBox=\"0 -960 960 960\">\n",
              "    <path d=\"M120-120v-720h720v720H120Zm60-500h600v-160H180v160Zm220 220h160v-160H400v160Zm0 220h160v-160H400v160ZM180-400h160v-160H180v160Zm440 0h160v-160H620v160ZM180-180h160v-160H180v160Zm440 0h160v-160H620v160Z\"/>\n",
              "  </svg>\n",
              "    </button>\n",
              "\n",
              "  <style>\n",
              "    .colab-df-container {\n",
              "      display:flex;\n",
              "      gap: 12px;\n",
              "    }\n",
              "\n",
              "    .colab-df-convert {\n",
              "      background-color: #E8F0FE;\n",
              "      border: none;\n",
              "      border-radius: 50%;\n",
              "      cursor: pointer;\n",
              "      display: none;\n",
              "      fill: #1967D2;\n",
              "      height: 32px;\n",
              "      padding: 0 0 0 0;\n",
              "      width: 32px;\n",
              "    }\n",
              "\n",
              "    .colab-df-convert:hover {\n",
              "      background-color: #E2EBFA;\n",
              "      box-shadow: 0px 1px 2px rgba(60, 64, 67, 0.3), 0px 1px 3px 1px rgba(60, 64, 67, 0.15);\n",
              "      fill: #174EA6;\n",
              "    }\n",
              "\n",
              "    .colab-df-buttons div {\n",
              "      margin-bottom: 4px;\n",
              "    }\n",
              "\n",
              "    [theme=dark] .colab-df-convert {\n",
              "      background-color: #3B4455;\n",
              "      fill: #D2E3FC;\n",
              "    }\n",
              "\n",
              "    [theme=dark] .colab-df-convert:hover {\n",
              "      background-color: #434B5C;\n",
              "      box-shadow: 0px 1px 3px 1px rgba(0, 0, 0, 0.15);\n",
              "      filter: drop-shadow(0px 1px 2px rgba(0, 0, 0, 0.3));\n",
              "      fill: #FFFFFF;\n",
              "    }\n",
              "  </style>\n",
              "\n",
              "    <script>\n",
              "      const buttonEl =\n",
              "        document.querySelector('#df-b56e5370-b011-4110-b820-5dd60118420b button.colab-df-convert');\n",
              "      buttonEl.style.display =\n",
              "        google.colab.kernel.accessAllowed ? 'block' : 'none';\n",
              "\n",
              "      async function convertToInteractive(key) {\n",
              "        const element = document.querySelector('#df-b56e5370-b011-4110-b820-5dd60118420b');\n",
              "        const dataTable =\n",
              "          await google.colab.kernel.invokeFunction('convertToInteractive',\n",
              "                                                    [key], {});\n",
              "        if (!dataTable) return;\n",
              "\n",
              "        const docLinkHtml = 'Like what you see? Visit the ' +\n",
              "          '<a target=\"_blank\" href=https://colab.research.google.com/notebooks/data_table.ipynb>data table notebook</a>'\n",
              "          + ' to learn more about interactive tables.';\n",
              "        element.innerHTML = '';\n",
              "        dataTable['output_type'] = 'display_data';\n",
              "        await google.colab.output.renderOutput(dataTable, element);\n",
              "        const docLink = document.createElement('div');\n",
              "        docLink.innerHTML = docLinkHtml;\n",
              "        element.appendChild(docLink);\n",
              "      }\n",
              "    </script>\n",
              "  </div>\n",
              "\n",
              "\n",
              "<div id=\"df-734f8fb4-826a-4f63-98d5-9a4cd8b861d9\">\n",
              "  <button class=\"colab-df-quickchart\" onclick=\"quickchart('df-734f8fb4-826a-4f63-98d5-9a4cd8b861d9')\"\n",
              "            title=\"Suggest charts\"\n",
              "            style=\"display:none;\">\n",
              "\n",
              "<svg xmlns=\"http://www.w3.org/2000/svg\" height=\"24px\"viewBox=\"0 0 24 24\"\n",
              "     width=\"24px\">\n",
              "    <g>\n",
              "        <path d=\"M19 3H5c-1.1 0-2 .9-2 2v14c0 1.1.9 2 2 2h14c1.1 0 2-.9 2-2V5c0-1.1-.9-2-2-2zM9 17H7v-7h2v7zm4 0h-2V7h2v10zm4 0h-2v-4h2v4z\"/>\n",
              "    </g>\n",
              "</svg>\n",
              "  </button>\n",
              "\n",
              "<style>\n",
              "  .colab-df-quickchart {\n",
              "      --bg-color: #E8F0FE;\n",
              "      --fill-color: #1967D2;\n",
              "      --hover-bg-color: #E2EBFA;\n",
              "      --hover-fill-color: #174EA6;\n",
              "      --disabled-fill-color: #AAA;\n",
              "      --disabled-bg-color: #DDD;\n",
              "  }\n",
              "\n",
              "  [theme=dark] .colab-df-quickchart {\n",
              "      --bg-color: #3B4455;\n",
              "      --fill-color: #D2E3FC;\n",
              "      --hover-bg-color: #434B5C;\n",
              "      --hover-fill-color: #FFFFFF;\n",
              "      --disabled-bg-color: #3B4455;\n",
              "      --disabled-fill-color: #666;\n",
              "  }\n",
              "\n",
              "  .colab-df-quickchart {\n",
              "    background-color: var(--bg-color);\n",
              "    border: none;\n",
              "    border-radius: 50%;\n",
              "    cursor: pointer;\n",
              "    display: none;\n",
              "    fill: var(--fill-color);\n",
              "    height: 32px;\n",
              "    padding: 0;\n",
              "    width: 32px;\n",
              "  }\n",
              "\n",
              "  .colab-df-quickchart:hover {\n",
              "    background-color: var(--hover-bg-color);\n",
              "    box-shadow: 0 1px 2px rgba(60, 64, 67, 0.3), 0 1px 3px 1px rgba(60, 64, 67, 0.15);\n",
              "    fill: var(--button-hover-fill-color);\n",
              "  }\n",
              "\n",
              "  .colab-df-quickchart-complete:disabled,\n",
              "  .colab-df-quickchart-complete:disabled:hover {\n",
              "    background-color: var(--disabled-bg-color);\n",
              "    fill: var(--disabled-fill-color);\n",
              "    box-shadow: none;\n",
              "  }\n",
              "\n",
              "  .colab-df-spinner {\n",
              "    border: 2px solid var(--fill-color);\n",
              "    border-color: transparent;\n",
              "    border-bottom-color: var(--fill-color);\n",
              "    animation:\n",
              "      spin 1s steps(1) infinite;\n",
              "  }\n",
              "\n",
              "  @keyframes spin {\n",
              "    0% {\n",
              "      border-color: transparent;\n",
              "      border-bottom-color: var(--fill-color);\n",
              "      border-left-color: var(--fill-color);\n",
              "    }\n",
              "    20% {\n",
              "      border-color: transparent;\n",
              "      border-left-color: var(--fill-color);\n",
              "      border-top-color: var(--fill-color);\n",
              "    }\n",
              "    30% {\n",
              "      border-color: transparent;\n",
              "      border-left-color: var(--fill-color);\n",
              "      border-top-color: var(--fill-color);\n",
              "      border-right-color: var(--fill-color);\n",
              "    }\n",
              "    40% {\n",
              "      border-color: transparent;\n",
              "      border-right-color: var(--fill-color);\n",
              "      border-top-color: var(--fill-color);\n",
              "    }\n",
              "    60% {\n",
              "      border-color: transparent;\n",
              "      border-right-color: var(--fill-color);\n",
              "    }\n",
              "    80% {\n",
              "      border-color: transparent;\n",
              "      border-right-color: var(--fill-color);\n",
              "      border-bottom-color: var(--fill-color);\n",
              "    }\n",
              "    90% {\n",
              "      border-color: transparent;\n",
              "      border-bottom-color: var(--fill-color);\n",
              "    }\n",
              "  }\n",
              "</style>\n",
              "\n",
              "  <script>\n",
              "    async function quickchart(key) {\n",
              "      const quickchartButtonEl =\n",
              "        document.querySelector('#' + key + ' button');\n",
              "      quickchartButtonEl.disabled = true;  // To prevent multiple clicks.\n",
              "      quickchartButtonEl.classList.add('colab-df-spinner');\n",
              "      try {\n",
              "        const charts = await google.colab.kernel.invokeFunction(\n",
              "            'suggestCharts', [key], {});\n",
              "      } catch (error) {\n",
              "        console.error('Error during call to suggestCharts:', error);\n",
              "      }\n",
              "      quickchartButtonEl.classList.remove('colab-df-spinner');\n",
              "      quickchartButtonEl.classList.add('colab-df-quickchart-complete');\n",
              "    }\n",
              "    (() => {\n",
              "      let quickchartButtonEl =\n",
              "        document.querySelector('#df-734f8fb4-826a-4f63-98d5-9a4cd8b861d9 button');\n",
              "      quickchartButtonEl.style.display =\n",
              "        google.colab.kernel.accessAllowed ? 'block' : 'none';\n",
              "    })();\n",
              "  </script>\n",
              "</div>\n",
              "\n",
              "    </div>\n",
              "  </div>\n"
            ],
            "application/vnd.google.colaboratory.intrinsic+json": {
              "type": "dataframe",
              "variable_name": "df",
              "summary": "{\n  \"name\": \"df\",\n  \"rows\": 740,\n  \"fields\": [\n    {\n      \"column\": \"fechadef\",\n      \"properties\": {\n        \"dtype\": \"object\",\n        \"num_unique_values\": 651,\n        \"samples\": [\n          \"04/11/2021\",\n          \"12/04/2017\",\n          \"26/03/2017\"\n        ],\n        \"semantic_type\": \"\",\n        \"description\": \"\"\n      }\n    },\n    {\n      \"column\": \"ano\",\n      \"properties\": {\n        \"dtype\": \"number\",\n        \"std\": 2,\n        \"min\": 2014,\n        \"max\": 2021,\n        \"num_unique_values\": 8,\n        \"samples\": [\n          2015,\n          2019,\n          2014\n        ],\n        \"semantic_type\": \"\",\n        \"description\": \"\"\n      }\n    },\n    {\n      \"column\": \"mes\",\n      \"properties\": {\n        \"dtype\": \"number\",\n        \"std\": 3,\n        \"min\": 1,\n        \"max\": 12,\n        \"num_unique_values\": 12,\n        \"samples\": [\n          11,\n          10,\n          1\n        ],\n        \"semantic_type\": \"\",\n        \"description\": \"\"\n      }\n    },\n    {\n      \"column\": \"nombre_mes\",\n      \"properties\": {\n        \"dtype\": \"category\",\n        \"num_unique_values\": 12,\n        \"samples\": [\n          \"nov\",\n          \"oct\",\n          \"ene\"\n        ],\n        \"semantic_type\": \"\",\n        \"description\": \"\"\n      }\n    },\n    {\n      \"column\": \"departamento\",\n      \"properties\": {\n        \"dtype\": \"category\",\n        \"num_unique_values\": 18,\n        \"samples\": [\n          \"amambay\",\n          \"central\",\n          \"caaguazu\"\n        ],\n        \"semantic_type\": \"\",\n        \"description\": \"\"\n      }\n    },\n    {\n      \"column\": \"zona\",\n      \"properties\": {\n        \"dtype\": \"category\",\n        \"num_unique_values\": 2,\n        \"samples\": [\n          \"rural\",\n          \"urbana\"\n        ],\n        \"semantic_type\": \"\",\n        \"description\": \"\"\n      }\n    },\n    {\n      \"column\": \"sitio_defuncion\",\n      \"properties\": {\n        \"dtype\": \"category\",\n        \"num_unique_values\": 6,\n        \"samples\": [\n          \"institucion privada\",\n          \"instituci\\u00f3n del mspybs\"\n        ],\n        \"semantic_type\": \"\",\n        \"description\": \"\"\n      }\n    },\n    {\n      \"column\": \"edad\",\n      \"properties\": {\n        \"dtype\": \"number\",\n        \"std\": 7,\n        \"min\": 13,\n        \"max\": 51,\n        \"num_unique_values\": 39,\n        \"samples\": [\n          51,\n          48\n        ],\n        \"semantic_type\": \"\",\n        \"description\": \"\"\n      }\n    },\n    {\n      \"column\": \"nivel_educaci\\u00f3n\",\n      \"properties\": {\n        \"dtype\": \"category\",\n        \"num_unique_values\": 8,\n        \"samples\": [\n          \"no sabe\",\n          \"esc. b\\u00e1sica completa\"\n        ],\n        \"semantic_type\": \"\",\n        \"description\": \"\"\n      }\n    },\n    {\n      \"column\": \"estado_civil\",\n      \"properties\": {\n        \"dtype\": \"category\",\n        \"num_unique_values\": 7,\n        \"samples\": [\n          \"casado\",\n          \"soltero\"\n        ],\n        \"semantic_type\": \"\",\n        \"description\": \"\"\n      }\n    },\n    {\n      \"column\": \"profesional\",\n      \"properties\": {\n        \"dtype\": \"category\",\n        \"num_unique_values\": 4,\n        \"samples\": [\n          \"medico tratante \",\n          \"medico forense\"\n        ],\n        \"semantic_type\": \"\",\n        \"description\": \"\"\n      }\n    },\n    {\n      \"column\": \"causa b\\u00e1sica\",\n      \"properties\": {\n        \"dtype\": \"category\",\n        \"num_unique_values\": 81,\n        \"samples\": [\n          \"hipertension materna, no especificada\",\n          \"otras hemorragias postparto inmediatas\"\n        ],\n        \"semantic_type\": \"\",\n        \"description\": \"\"\n      }\n    }\n  ]\n}"
            }
          },
          "metadata": {},
          "execution_count": 4
        }
      ]
    },
    {
      "cell_type": "code",
      "source": [
        "df.info()"
      ],
      "metadata": {
        "colab": {
          "base_uri": "https://localhost:8080/"
        },
        "id": "rvAQe8AntT5P",
        "outputId": "bdd5fd8c-148d-4e15-bad4-cdd45990ea8e"
      },
      "execution_count": null,
      "outputs": [
        {
          "output_type": "stream",
          "name": "stdout",
          "text": [
            "<class 'pandas.core.frame.DataFrame'>\n",
            "RangeIndex: 740 entries, 0 to 739\n",
            "Data columns (total 12 columns):\n",
            " #   Column           Non-Null Count  Dtype \n",
            "---  ------           --------------  ----- \n",
            " 0   fechadef         740 non-null    object\n",
            " 1   ano              740 non-null    int64 \n",
            " 2   mes              740 non-null    int64 \n",
            " 3   nombre_mes       740 non-null    object\n",
            " 4   departamento     740 non-null    object\n",
            " 5   zona             740 non-null    object\n",
            " 6   sitio_defuncion  740 non-null    object\n",
            " 7   edad             740 non-null    int64 \n",
            " 8   nivel_educación  740 non-null    object\n",
            " 9   estado_civil     740 non-null    object\n",
            " 10  profesional      740 non-null    object\n",
            " 11  causa básica     740 non-null    object\n",
            "dtypes: int64(3), object(9)\n",
            "memory usage: 69.5+ KB\n"
          ]
        }
      ]
    },
    {
      "cell_type": "code",
      "source": [
        "columns_to_drop = ['Unnamed: 12', 'Unnamed: 13', 'Unnamed: 14']\n",
        "\n",
        "# Ensure we only attempt to drop columns that exist in the DataFrame\n",
        "existing_columns_to_drop = [col for col in columns_to_drop if col in df.columns]\n",
        "\n",
        "# Drop the specified columns\n",
        "df.drop(columns=existing_columns_to_drop, inplace=True)\n",
        "\n",
        "# Display the first few rows of the modified DataFrame to confirm changes\n",
        "print(\"Modified DataFrame:\")\n",
        "print(df.head())"
      ],
      "metadata": {
        "colab": {
          "base_uri": "https://localhost:8080/"
        },
        "id": "LFiLPItztT8d",
        "outputId": "4fcfa184-28e2-4d74-f783-0730fafdca3e"
      },
      "execution_count": null,
      "outputs": [
        {
          "output_type": "stream",
          "name": "stdout",
          "text": [
            "Modified DataFrame:\n",
            "     fechadef   ano  mes nombre_mes departamento    zona  \\\n",
            "0  19/01/2014  2014    1        ene      amambay  urbana   \n",
            "1  26/01/2014  2014    1        ene      central   rural   \n",
            "2  06/02/2014  2014    2        feb   concepcion  urbana   \n",
            "3  08/02/2014  2014    2        feb      central   rural   \n",
            "4  01/03/2014  2014    3        mar      central  urbana   \n",
            "\n",
            "          sitio_defuncion  edad      nivel_educación estado_civil  \\\n",
            "0     institucion privada    26  secundaria completa       casado   \n",
            "1  institución del mspybs    30              no sabe      soltero   \n",
            "2  institución del mspybs    17              ninguno       casado   \n",
            "3  institución del mspybs    39    primaria completa      soltero   \n",
            "4  institución del mspybs    26  secundaria completa      soltero   \n",
            "\n",
            "          profesional                                       causa básica  \n",
            "0  medico no tratante             otras hemorragias postparto inmediatas  \n",
            "1  medico no tratante  otro aborto completo o no especificado, compli...  \n",
            "2  medico no tratante                           eclampsia en el embarazo  \n",
            "3  medico no tratante  aborto no especificado completo o no especific...  \n",
            "4  medico no tratante  otras enfermedades especificadas y afecciones ...  \n"
          ]
        }
      ]
    },
    {
      "cell_type": "code",
      "source": [
        "df.isnull()"
      ],
      "metadata": {
        "colab": {
          "base_uri": "https://localhost:8080/",
          "height": 424
        },
        "id": "UNuOMTf8xWjV",
        "outputId": "3839ba3e-b6d9-4fd2-c259-5063e8641709"
      },
      "execution_count": null,
      "outputs": [
        {
          "output_type": "execute_result",
          "data": {
            "text/plain": [
              "     fechadef    ano    mes  nombre_mes  departamento   zona  sitio_defuncion  \\\n",
              "0       False  False  False       False         False  False            False   \n",
              "1       False  False  False       False         False  False            False   \n",
              "2       False  False  False       False         False  False            False   \n",
              "3       False  False  False       False         False  False            False   \n",
              "4       False  False  False       False         False  False            False   \n",
              "..        ...    ...    ...         ...           ...    ...              ...   \n",
              "735     False  False  False       False         False  False            False   \n",
              "736     False  False  False       False         False  False            False   \n",
              "737     False  False  False       False         False  False            False   \n",
              "738     False  False  False       False         False  False            False   \n",
              "739     False  False  False       False         False  False            False   \n",
              "\n",
              "      edad  nivel_educación  estado_civil  profesional  causa básica  \n",
              "0    False            False         False        False         False  \n",
              "1    False            False         False        False         False  \n",
              "2    False            False         False        False         False  \n",
              "3    False            False         False        False         False  \n",
              "4    False            False         False        False         False  \n",
              "..     ...              ...           ...          ...           ...  \n",
              "735  False            False         False        False         False  \n",
              "736  False            False         False        False         False  \n",
              "737  False            False         False        False         False  \n",
              "738  False            False         False        False         False  \n",
              "739  False            False         False        False         False  \n",
              "\n",
              "[740 rows x 12 columns]"
            ],
            "text/html": [
              "\n",
              "  <div id=\"df-a3f1c749-d1ad-4f75-b42a-f1eccf472adc\" class=\"colab-df-container\">\n",
              "    <div>\n",
              "<style scoped>\n",
              "    .dataframe tbody tr th:only-of-type {\n",
              "        vertical-align: middle;\n",
              "    }\n",
              "\n",
              "    .dataframe tbody tr th {\n",
              "        vertical-align: top;\n",
              "    }\n",
              "\n",
              "    .dataframe thead th {\n",
              "        text-align: right;\n",
              "    }\n",
              "</style>\n",
              "<table border=\"1\" class=\"dataframe\">\n",
              "  <thead>\n",
              "    <tr style=\"text-align: right;\">\n",
              "      <th></th>\n",
              "      <th>fechadef</th>\n",
              "      <th>ano</th>\n",
              "      <th>mes</th>\n",
              "      <th>nombre_mes</th>\n",
              "      <th>departamento</th>\n",
              "      <th>zona</th>\n",
              "      <th>sitio_defuncion</th>\n",
              "      <th>edad</th>\n",
              "      <th>nivel_educación</th>\n",
              "      <th>estado_civil</th>\n",
              "      <th>profesional</th>\n",
              "      <th>causa básica</th>\n",
              "    </tr>\n",
              "  </thead>\n",
              "  <tbody>\n",
              "    <tr>\n",
              "      <th>0</th>\n",
              "      <td>False</td>\n",
              "      <td>False</td>\n",
              "      <td>False</td>\n",
              "      <td>False</td>\n",
              "      <td>False</td>\n",
              "      <td>False</td>\n",
              "      <td>False</td>\n",
              "      <td>False</td>\n",
              "      <td>False</td>\n",
              "      <td>False</td>\n",
              "      <td>False</td>\n",
              "      <td>False</td>\n",
              "    </tr>\n",
              "    <tr>\n",
              "      <th>1</th>\n",
              "      <td>False</td>\n",
              "      <td>False</td>\n",
              "      <td>False</td>\n",
              "      <td>False</td>\n",
              "      <td>False</td>\n",
              "      <td>False</td>\n",
              "      <td>False</td>\n",
              "      <td>False</td>\n",
              "      <td>False</td>\n",
              "      <td>False</td>\n",
              "      <td>False</td>\n",
              "      <td>False</td>\n",
              "    </tr>\n",
              "    <tr>\n",
              "      <th>2</th>\n",
              "      <td>False</td>\n",
              "      <td>False</td>\n",
              "      <td>False</td>\n",
              "      <td>False</td>\n",
              "      <td>False</td>\n",
              "      <td>False</td>\n",
              "      <td>False</td>\n",
              "      <td>False</td>\n",
              "      <td>False</td>\n",
              "      <td>False</td>\n",
              "      <td>False</td>\n",
              "      <td>False</td>\n",
              "    </tr>\n",
              "    <tr>\n",
              "      <th>3</th>\n",
              "      <td>False</td>\n",
              "      <td>False</td>\n",
              "      <td>False</td>\n",
              "      <td>False</td>\n",
              "      <td>False</td>\n",
              "      <td>False</td>\n",
              "      <td>False</td>\n",
              "      <td>False</td>\n",
              "      <td>False</td>\n",
              "      <td>False</td>\n",
              "      <td>False</td>\n",
              "      <td>False</td>\n",
              "    </tr>\n",
              "    <tr>\n",
              "      <th>4</th>\n",
              "      <td>False</td>\n",
              "      <td>False</td>\n",
              "      <td>False</td>\n",
              "      <td>False</td>\n",
              "      <td>False</td>\n",
              "      <td>False</td>\n",
              "      <td>False</td>\n",
              "      <td>False</td>\n",
              "      <td>False</td>\n",
              "      <td>False</td>\n",
              "      <td>False</td>\n",
              "      <td>False</td>\n",
              "    </tr>\n",
              "    <tr>\n",
              "      <th>...</th>\n",
              "      <td>...</td>\n",
              "      <td>...</td>\n",
              "      <td>...</td>\n",
              "      <td>...</td>\n",
              "      <td>...</td>\n",
              "      <td>...</td>\n",
              "      <td>...</td>\n",
              "      <td>...</td>\n",
              "      <td>...</td>\n",
              "      <td>...</td>\n",
              "      <td>...</td>\n",
              "      <td>...</td>\n",
              "    </tr>\n",
              "    <tr>\n",
              "      <th>735</th>\n",
              "      <td>False</td>\n",
              "      <td>False</td>\n",
              "      <td>False</td>\n",
              "      <td>False</td>\n",
              "      <td>False</td>\n",
              "      <td>False</td>\n",
              "      <td>False</td>\n",
              "      <td>False</td>\n",
              "      <td>False</td>\n",
              "      <td>False</td>\n",
              "      <td>False</td>\n",
              "      <td>False</td>\n",
              "    </tr>\n",
              "    <tr>\n",
              "      <th>736</th>\n",
              "      <td>False</td>\n",
              "      <td>False</td>\n",
              "      <td>False</td>\n",
              "      <td>False</td>\n",
              "      <td>False</td>\n",
              "      <td>False</td>\n",
              "      <td>False</td>\n",
              "      <td>False</td>\n",
              "      <td>False</td>\n",
              "      <td>False</td>\n",
              "      <td>False</td>\n",
              "      <td>False</td>\n",
              "    </tr>\n",
              "    <tr>\n",
              "      <th>737</th>\n",
              "      <td>False</td>\n",
              "      <td>False</td>\n",
              "      <td>False</td>\n",
              "      <td>False</td>\n",
              "      <td>False</td>\n",
              "      <td>False</td>\n",
              "      <td>False</td>\n",
              "      <td>False</td>\n",
              "      <td>False</td>\n",
              "      <td>False</td>\n",
              "      <td>False</td>\n",
              "      <td>False</td>\n",
              "    </tr>\n",
              "    <tr>\n",
              "      <th>738</th>\n",
              "      <td>False</td>\n",
              "      <td>False</td>\n",
              "      <td>False</td>\n",
              "      <td>False</td>\n",
              "      <td>False</td>\n",
              "      <td>False</td>\n",
              "      <td>False</td>\n",
              "      <td>False</td>\n",
              "      <td>False</td>\n",
              "      <td>False</td>\n",
              "      <td>False</td>\n",
              "      <td>False</td>\n",
              "    </tr>\n",
              "    <tr>\n",
              "      <th>739</th>\n",
              "      <td>False</td>\n",
              "      <td>False</td>\n",
              "      <td>False</td>\n",
              "      <td>False</td>\n",
              "      <td>False</td>\n",
              "      <td>False</td>\n",
              "      <td>False</td>\n",
              "      <td>False</td>\n",
              "      <td>False</td>\n",
              "      <td>False</td>\n",
              "      <td>False</td>\n",
              "      <td>False</td>\n",
              "    </tr>\n",
              "  </tbody>\n",
              "</table>\n",
              "<p>740 rows × 12 columns</p>\n",
              "</div>\n",
              "    <div class=\"colab-df-buttons\">\n",
              "\n",
              "  <div class=\"colab-df-container\">\n",
              "    <button class=\"colab-df-convert\" onclick=\"convertToInteractive('df-a3f1c749-d1ad-4f75-b42a-f1eccf472adc')\"\n",
              "            title=\"Convert this dataframe to an interactive table.\"\n",
              "            style=\"display:none;\">\n",
              "\n",
              "  <svg xmlns=\"http://www.w3.org/2000/svg\" height=\"24px\" viewBox=\"0 -960 960 960\">\n",
              "    <path d=\"M120-120v-720h720v720H120Zm60-500h600v-160H180v160Zm220 220h160v-160H400v160Zm0 220h160v-160H400v160ZM180-400h160v-160H180v160Zm440 0h160v-160H620v160ZM180-180h160v-160H180v160Zm440 0h160v-160H620v160Z\"/>\n",
              "  </svg>\n",
              "    </button>\n",
              "\n",
              "  <style>\n",
              "    .colab-df-container {\n",
              "      display:flex;\n",
              "      gap: 12px;\n",
              "    }\n",
              "\n",
              "    .colab-df-convert {\n",
              "      background-color: #E8F0FE;\n",
              "      border: none;\n",
              "      border-radius: 50%;\n",
              "      cursor: pointer;\n",
              "      display: none;\n",
              "      fill: #1967D2;\n",
              "      height: 32px;\n",
              "      padding: 0 0 0 0;\n",
              "      width: 32px;\n",
              "    }\n",
              "\n",
              "    .colab-df-convert:hover {\n",
              "      background-color: #E2EBFA;\n",
              "      box-shadow: 0px 1px 2px rgba(60, 64, 67, 0.3), 0px 1px 3px 1px rgba(60, 64, 67, 0.15);\n",
              "      fill: #174EA6;\n",
              "    }\n",
              "\n",
              "    .colab-df-buttons div {\n",
              "      margin-bottom: 4px;\n",
              "    }\n",
              "\n",
              "    [theme=dark] .colab-df-convert {\n",
              "      background-color: #3B4455;\n",
              "      fill: #D2E3FC;\n",
              "    }\n",
              "\n",
              "    [theme=dark] .colab-df-convert:hover {\n",
              "      background-color: #434B5C;\n",
              "      box-shadow: 0px 1px 3px 1px rgba(0, 0, 0, 0.15);\n",
              "      filter: drop-shadow(0px 1px 2px rgba(0, 0, 0, 0.3));\n",
              "      fill: #FFFFFF;\n",
              "    }\n",
              "  </style>\n",
              "\n",
              "    <script>\n",
              "      const buttonEl =\n",
              "        document.querySelector('#df-a3f1c749-d1ad-4f75-b42a-f1eccf472adc button.colab-df-convert');\n",
              "      buttonEl.style.display =\n",
              "        google.colab.kernel.accessAllowed ? 'block' : 'none';\n",
              "\n",
              "      async function convertToInteractive(key) {\n",
              "        const element = document.querySelector('#df-a3f1c749-d1ad-4f75-b42a-f1eccf472adc');\n",
              "        const dataTable =\n",
              "          await google.colab.kernel.invokeFunction('convertToInteractive',\n",
              "                                                    [key], {});\n",
              "        if (!dataTable) return;\n",
              "\n",
              "        const docLinkHtml = 'Like what you see? Visit the ' +\n",
              "          '<a target=\"_blank\" href=https://colab.research.google.com/notebooks/data_table.ipynb>data table notebook</a>'\n",
              "          + ' to learn more about interactive tables.';\n",
              "        element.innerHTML = '';\n",
              "        dataTable['output_type'] = 'display_data';\n",
              "        await google.colab.output.renderOutput(dataTable, element);\n",
              "        const docLink = document.createElement('div');\n",
              "        docLink.innerHTML = docLinkHtml;\n",
              "        element.appendChild(docLink);\n",
              "      }\n",
              "    </script>\n",
              "  </div>\n",
              "\n",
              "\n",
              "<div id=\"df-e0758ec9-13fc-4a2b-a595-ab31baae66f9\">\n",
              "  <button class=\"colab-df-quickchart\" onclick=\"quickchart('df-e0758ec9-13fc-4a2b-a595-ab31baae66f9')\"\n",
              "            title=\"Suggest charts\"\n",
              "            style=\"display:none;\">\n",
              "\n",
              "<svg xmlns=\"http://www.w3.org/2000/svg\" height=\"24px\"viewBox=\"0 0 24 24\"\n",
              "     width=\"24px\">\n",
              "    <g>\n",
              "        <path d=\"M19 3H5c-1.1 0-2 .9-2 2v14c0 1.1.9 2 2 2h14c1.1 0 2-.9 2-2V5c0-1.1-.9-2-2-2zM9 17H7v-7h2v7zm4 0h-2V7h2v10zm4 0h-2v-4h2v4z\"/>\n",
              "    </g>\n",
              "</svg>\n",
              "  </button>\n",
              "\n",
              "<style>\n",
              "  .colab-df-quickchart {\n",
              "      --bg-color: #E8F0FE;\n",
              "      --fill-color: #1967D2;\n",
              "      --hover-bg-color: #E2EBFA;\n",
              "      --hover-fill-color: #174EA6;\n",
              "      --disabled-fill-color: #AAA;\n",
              "      --disabled-bg-color: #DDD;\n",
              "  }\n",
              "\n",
              "  [theme=dark] .colab-df-quickchart {\n",
              "      --bg-color: #3B4455;\n",
              "      --fill-color: #D2E3FC;\n",
              "      --hover-bg-color: #434B5C;\n",
              "      --hover-fill-color: #FFFFFF;\n",
              "      --disabled-bg-color: #3B4455;\n",
              "      --disabled-fill-color: #666;\n",
              "  }\n",
              "\n",
              "  .colab-df-quickchart {\n",
              "    background-color: var(--bg-color);\n",
              "    border: none;\n",
              "    border-radius: 50%;\n",
              "    cursor: pointer;\n",
              "    display: none;\n",
              "    fill: var(--fill-color);\n",
              "    height: 32px;\n",
              "    padding: 0;\n",
              "    width: 32px;\n",
              "  }\n",
              "\n",
              "  .colab-df-quickchart:hover {\n",
              "    background-color: var(--hover-bg-color);\n",
              "    box-shadow: 0 1px 2px rgba(60, 64, 67, 0.3), 0 1px 3px 1px rgba(60, 64, 67, 0.15);\n",
              "    fill: var(--button-hover-fill-color);\n",
              "  }\n",
              "\n",
              "  .colab-df-quickchart-complete:disabled,\n",
              "  .colab-df-quickchart-complete:disabled:hover {\n",
              "    background-color: var(--disabled-bg-color);\n",
              "    fill: var(--disabled-fill-color);\n",
              "    box-shadow: none;\n",
              "  }\n",
              "\n",
              "  .colab-df-spinner {\n",
              "    border: 2px solid var(--fill-color);\n",
              "    border-color: transparent;\n",
              "    border-bottom-color: var(--fill-color);\n",
              "    animation:\n",
              "      spin 1s steps(1) infinite;\n",
              "  }\n",
              "\n",
              "  @keyframes spin {\n",
              "    0% {\n",
              "      border-color: transparent;\n",
              "      border-bottom-color: var(--fill-color);\n",
              "      border-left-color: var(--fill-color);\n",
              "    }\n",
              "    20% {\n",
              "      border-color: transparent;\n",
              "      border-left-color: var(--fill-color);\n",
              "      border-top-color: var(--fill-color);\n",
              "    }\n",
              "    30% {\n",
              "      border-color: transparent;\n",
              "      border-left-color: var(--fill-color);\n",
              "      border-top-color: var(--fill-color);\n",
              "      border-right-color: var(--fill-color);\n",
              "    }\n",
              "    40% {\n",
              "      border-color: transparent;\n",
              "      border-right-color: var(--fill-color);\n",
              "      border-top-color: var(--fill-color);\n",
              "    }\n",
              "    60% {\n",
              "      border-color: transparent;\n",
              "      border-right-color: var(--fill-color);\n",
              "    }\n",
              "    80% {\n",
              "      border-color: transparent;\n",
              "      border-right-color: var(--fill-color);\n",
              "      border-bottom-color: var(--fill-color);\n",
              "    }\n",
              "    90% {\n",
              "      border-color: transparent;\n",
              "      border-bottom-color: var(--fill-color);\n",
              "    }\n",
              "  }\n",
              "</style>\n",
              "\n",
              "  <script>\n",
              "    async function quickchart(key) {\n",
              "      const quickchartButtonEl =\n",
              "        document.querySelector('#' + key + ' button');\n",
              "      quickchartButtonEl.disabled = true;  // To prevent multiple clicks.\n",
              "      quickchartButtonEl.classList.add('colab-df-spinner');\n",
              "      try {\n",
              "        const charts = await google.colab.kernel.invokeFunction(\n",
              "            'suggestCharts', [key], {});\n",
              "      } catch (error) {\n",
              "        console.error('Error during call to suggestCharts:', error);\n",
              "      }\n",
              "      quickchartButtonEl.classList.remove('colab-df-spinner');\n",
              "      quickchartButtonEl.classList.add('colab-df-quickchart-complete');\n",
              "    }\n",
              "    (() => {\n",
              "      let quickchartButtonEl =\n",
              "        document.querySelector('#df-e0758ec9-13fc-4a2b-a595-ab31baae66f9 button');\n",
              "      quickchartButtonEl.style.display =\n",
              "        google.colab.kernel.accessAllowed ? 'block' : 'none';\n",
              "    })();\n",
              "  </script>\n",
              "</div>\n",
              "\n",
              "    </div>\n",
              "  </div>\n"
            ],
            "application/vnd.google.colaboratory.intrinsic+json": {
              "type": "dataframe",
              "summary": "{\n  \"name\": \"df\",\n  \"rows\": 740,\n  \"fields\": [\n    {\n      \"column\": \"fechadef\",\n      \"properties\": {\n        \"dtype\": \"boolean\",\n        \"num_unique_values\": 1,\n        \"samples\": [\n          false\n        ],\n        \"semantic_type\": \"\",\n        \"description\": \"\"\n      }\n    },\n    {\n      \"column\": \"ano\",\n      \"properties\": {\n        \"dtype\": \"boolean\",\n        \"num_unique_values\": 1,\n        \"samples\": [\n          false\n        ],\n        \"semantic_type\": \"\",\n        \"description\": \"\"\n      }\n    },\n    {\n      \"column\": \"mes\",\n      \"properties\": {\n        \"dtype\": \"boolean\",\n        \"num_unique_values\": 1,\n        \"samples\": [\n          false\n        ],\n        \"semantic_type\": \"\",\n        \"description\": \"\"\n      }\n    },\n    {\n      \"column\": \"nombre_mes\",\n      \"properties\": {\n        \"dtype\": \"boolean\",\n        \"num_unique_values\": 1,\n        \"samples\": [\n          false\n        ],\n        \"semantic_type\": \"\",\n        \"description\": \"\"\n      }\n    },\n    {\n      \"column\": \"departamento\",\n      \"properties\": {\n        \"dtype\": \"boolean\",\n        \"num_unique_values\": 1,\n        \"samples\": [\n          false\n        ],\n        \"semantic_type\": \"\",\n        \"description\": \"\"\n      }\n    },\n    {\n      \"column\": \"zona\",\n      \"properties\": {\n        \"dtype\": \"boolean\",\n        \"num_unique_values\": 1,\n        \"samples\": [\n          false\n        ],\n        \"semantic_type\": \"\",\n        \"description\": \"\"\n      }\n    },\n    {\n      \"column\": \"sitio_defuncion\",\n      \"properties\": {\n        \"dtype\": \"boolean\",\n        \"num_unique_values\": 1,\n        \"samples\": [\n          false\n        ],\n        \"semantic_type\": \"\",\n        \"description\": \"\"\n      }\n    },\n    {\n      \"column\": \"edad\",\n      \"properties\": {\n        \"dtype\": \"boolean\",\n        \"num_unique_values\": 1,\n        \"samples\": [\n          false\n        ],\n        \"semantic_type\": \"\",\n        \"description\": \"\"\n      }\n    },\n    {\n      \"column\": \"nivel_educaci\\u00f3n\",\n      \"properties\": {\n        \"dtype\": \"boolean\",\n        \"num_unique_values\": 1,\n        \"samples\": [\n          false\n        ],\n        \"semantic_type\": \"\",\n        \"description\": \"\"\n      }\n    },\n    {\n      \"column\": \"estado_civil\",\n      \"properties\": {\n        \"dtype\": \"boolean\",\n        \"num_unique_values\": 1,\n        \"samples\": [\n          false\n        ],\n        \"semantic_type\": \"\",\n        \"description\": \"\"\n      }\n    },\n    {\n      \"column\": \"profesional\",\n      \"properties\": {\n        \"dtype\": \"boolean\",\n        \"num_unique_values\": 1,\n        \"samples\": [\n          false\n        ],\n        \"semantic_type\": \"\",\n        \"description\": \"\"\n      }\n    },\n    {\n      \"column\": \"causa b\\u00e1sica\",\n      \"properties\": {\n        \"dtype\": \"boolean\",\n        \"num_unique_values\": 1,\n        \"samples\": [\n          false\n        ],\n        \"semantic_type\": \"\",\n        \"description\": \"\"\n      }\n    }\n  ]\n}"
            }
          },
          "metadata": {},
          "execution_count": 7
        }
      ]
    },
    {
      "cell_type": "code",
      "source": [
        "df.isnull().sum()"
      ],
      "metadata": {
        "colab": {
          "base_uri": "https://localhost:8080/"
        },
        "id": "YOd4RoxXToYD",
        "outputId": "664b2db2-9398-4293-dd54-c9581b702132"
      },
      "execution_count": null,
      "outputs": [
        {
          "output_type": "execute_result",
          "data": {
            "text/plain": [
              "fechadef           0\n",
              "ano                0\n",
              "mes                0\n",
              "nombre_mes         0\n",
              "departamento       0\n",
              "zona               0\n",
              "sitio_defuncion    0\n",
              "edad               0\n",
              "nivel_educación    0\n",
              "estado_civil       0\n",
              "profesional        0\n",
              "causa básica       0\n",
              "dtype: int64"
            ]
          },
          "metadata": {},
          "execution_count": 8
        }
      ]
    },
    {
      "cell_type": "code",
      "source": [
        "df.shape"
      ],
      "metadata": {
        "colab": {
          "base_uri": "https://localhost:8080/"
        },
        "id": "DTWLaQmcUlqr",
        "outputId": "13d227f5-1a48-414c-bb98-df283afbecc6"
      },
      "execution_count": null,
      "outputs": [
        {
          "output_type": "execute_result",
          "data": {
            "text/plain": [
              "(740, 12)"
            ]
          },
          "metadata": {},
          "execution_count": 9
        }
      ]
    },
    {
      "cell_type": "code",
      "source": [
        "df.dtypes"
      ],
      "metadata": {
        "colab": {
          "base_uri": "https://localhost:8080/"
        },
        "id": "IoUSGSquUpCc",
        "outputId": "1aa0d146-fc1e-432a-a401-844c7b4b40a0"
      },
      "execution_count": null,
      "outputs": [
        {
          "output_type": "execute_result",
          "data": {
            "text/plain": [
              "fechadef           object\n",
              "ano                 int64\n",
              "mes                 int64\n",
              "nombre_mes         object\n",
              "departamento       object\n",
              "zona               object\n",
              "sitio_defuncion    object\n",
              "edad                int64\n",
              "nivel_educación    object\n",
              "estado_civil       object\n",
              "profesional        object\n",
              "causa básica       object\n",
              "dtype: object"
            ]
          },
          "metadata": {},
          "execution_count": 10
        }
      ]
    },
    {
      "cell_type": "markdown",
      "source": [
        "# Explorar"
      ],
      "metadata": {
        "id": "6i5wd5CUqFmM"
      }
    },
    {
      "cell_type": "markdown",
      "source": [
        "**Contar las muertes por departamento**"
      ],
      "metadata": {
        "id": "G0POUASPqFod"
      }
    },
    {
      "cell_type": "code",
      "source": [
        "\n",
        "departamento_counts = df['departamento'].value_counts()\n",
        "print(\"Conteo de muertes por departamento:\")\n",
        "print(departamento_counts)"
      ],
      "metadata": {
        "colab": {
          "base_uri": "https://localhost:8080/"
        },
        "id": "f6tTpUV80OuF",
        "outputId": "e75a401c-acae-441d-ae89-13e4ddb441c6"
      },
      "execution_count": null,
      "outputs": [
        {
          "output_type": "stream",
          "name": "stdout",
          "text": [
            "Conteo de muertes por departamento:\n",
            "departamento\n",
            "central             207\n",
            "capital             141\n",
            "alto parana         117\n",
            "caaguazu             48\n",
            "concepcion           45\n",
            "itapua               45\n",
            "san pedro            31\n",
            "amambay              25\n",
            "canindeyu            15\n",
            "guaira               14\n",
            "presidente hayes     14\n",
            "boqueron             12\n",
            "cordillera            8\n",
            "misiones              7\n",
            "caazapa               5\n",
            "paraguari             4\n",
            "extranjero            1\n",
            "alto paraguay         1\n",
            "Name: count, dtype: int64\n"
          ]
        }
      ]
    },
    {
      "cell_type": "markdown",
      "source": [
        "**Contar las muertes por causa básica**"
      ],
      "metadata": {
        "id": "NMp4IdmkqFqY"
      }
    },
    {
      "cell_type": "code",
      "source": [
        "causa_basica_counts = df['causa básica'].value_counts()\n",
        "print(\"\\nConteo de muertes por causa básica:\")\n",
        "print(causa_basica_counts)"
      ],
      "metadata": {
        "colab": {
          "base_uri": "https://localhost:8080/"
        },
        "id": "4O1-A7tL1wze",
        "outputId": "f8da9d86-5d06-4123-a537-35584780b13b"
      },
      "execution_count": null,
      "outputs": [
        {
          "output_type": "stream",
          "name": "stdout",
          "text": [
            "\n",
            "Conteo de muertes por causa básica:\n",
            "causa básica\n",
            "enfermedades del sistema respiratorio que complican el embarazo, el parto y el puerperio            134\n",
            "otras hemorragias postparto inmediatas                                                               65\n",
            "otras enfermedades especificadas y afecciones que complican el embarazo, el parto y el puerperio     57\n",
            "eclampsia en el embarazo                                                                             44\n",
            "aborto no especificado completo o no especificado, complicado con infeccion genital y pelviana       38\n",
            "                                                                                                   ... \n",
            "preeclampsia leve a moderada                                                                          1\n",
            "aborto no especificado incompleto, con otras complicaciones especificadas y las no especificadas      1\n",
            "o87.1                                                                                                 1\n",
            "otro aborto completo o no especificado, complicado por embolia                                        1\n",
            "hiperemesis gravidica con trastornos metabolicos                                                      1\n",
            "Name: count, Length: 81, dtype: int64\n"
          ]
        }
      ]
    },
    {
      "cell_type": "markdown",
      "source": [
        "**Defunciones por tipo de institucion**"
      ],
      "metadata": {
        "id": "v0Ol0hINLZ--"
      }
    },
    {
      "cell_type": "code",
      "source": [
        "causa_basica_counts = df['sitio_defuncion'].value_counts()\n",
        "print(\"\\nConteo de muertes por sitio_defuncion:\")\n",
        "print(causa_basica_counts)"
      ],
      "metadata": {
        "colab": {
          "base_uri": "https://localhost:8080/"
        },
        "id": "bTjRYz58LaOk",
        "outputId": "97c1e209-f22a-4193-c227-de08998d5f2f"
      },
      "execution_count": null,
      "outputs": [
        {
          "output_type": "stream",
          "name": "stdout",
          "text": [
            "\n",
            "Conteo de muertes por sitio_defuncion:\n",
            "sitio_defuncion\n",
            "institución del mspybs    471\n",
            "ips                        79\n",
            "domicilio                  61\n",
            "institucion privada        60\n",
            "otro                       50\n",
            "calle                      19\n",
            "Name: count, dtype: int64\n"
          ]
        }
      ]
    },
    {
      "cell_type": "markdown",
      "source": [
        "**Contar las muertes por  mes**"
      ],
      "metadata": {
        "id": "W1mgI5iVqFsf"
      }
    },
    {
      "cell_type": "code",
      "source": [
        "causa_basica_counts = df['nombre_mes'].value_counts()\n",
        "print(\"\\nConteo de muertes por mes:\")\n",
        "print(causa_basica_counts)"
      ],
      "metadata": {
        "colab": {
          "base_uri": "https://localhost:8080/"
        },
        "id": "FvZIgPqW2rlK",
        "outputId": "1314773c-e2be-4bf2-d54c-6d38eac44f37"
      },
      "execution_count": null,
      "outputs": [
        {
          "output_type": "stream",
          "name": "stdout",
          "text": [
            "\n",
            "Conteo de muertes por mes:\n",
            "nombre_mes\n",
            "abr    92\n",
            "may    81\n",
            "jun    76\n",
            "jul    76\n",
            "mar    67\n",
            "feb    57\n",
            "oct    51\n",
            "nov    51\n",
            "ago    50\n",
            "sep    47\n",
            "ene    46\n",
            "dic    46\n",
            "Name: count, dtype: int64\n"
          ]
        }
      ]
    },
    {
      "cell_type": "markdown",
      "source": [
        "**Contar las muertes por año**"
      ],
      "metadata": {
        "id": "YSy9P1v1qFuy"
      }
    },
    {
      "cell_type": "code",
      "source": [
        "ano_counts = df['ano'].value_counts()\n",
        "print(\"\\nConteo de muertes por año:\")\n",
        "print(ano_counts)"
      ],
      "metadata": {
        "colab": {
          "base_uri": "https://localhost:8080/"
        },
        "id": "x4hO1d0q2uZt",
        "outputId": "d7a65179-cfb5-40ba-fc16-6d3f9efece7c"
      },
      "execution_count": null,
      "outputs": [
        {
          "output_type": "stream",
          "name": "stdout",
          "text": [
            "\n",
            "Conteo de muertes por año:\n",
            "ano\n",
            "2021    166\n",
            "2016     96\n",
            "2015     95\n",
            "2020     81\n",
            "2018     79\n",
            "2017     78\n",
            "2019     73\n",
            "2014     72\n",
            "Name: count, dtype: int64\n"
          ]
        }
      ]
    },
    {
      "cell_type": "markdown",
      "source": [
        "**Conteo de causas básicas agrupadas por departamento**"
      ],
      "metadata": {
        "id": "WTaRlPU9YL0h"
      }
    },
    {
      "cell_type": "code",
      "source": [
        "# Agrupar por departamento y causa básica, luego contar las ocurrencias\n",
        "grouped_counts = df.groupby(['departamento', 'causa básica']).size().reset_index(name='counts')\n",
        "\n",
        "# Ordenar los resultados de mayor a menor\n",
        "sorted_grouped_counts = grouped_counts.sort_values(by='counts', ascending=False)\n",
        "\n",
        "# Mostrar el resultado\n",
        "print(\"Conteo de causas básicas agrupadas por departamento (ordenado de mayor a menor):\")\n",
        "print(sorted_grouped_counts)"
      ],
      "metadata": {
        "colab": {
          "base_uri": "https://localhost:8080/"
        },
        "id": "DLJkhpY-3G5F",
        "outputId": "b744b138-5690-4709-df56-72307a324ae1"
      },
      "execution_count": null,
      "outputs": [
        {
          "output_type": "stream",
          "name": "stdout",
          "text": [
            "Conteo de causas básicas agrupadas por departamento (ordenado de mayor a menor):\n",
            "      departamento                                       causa básica  counts\n",
            "153        central  enfermedades del sistema respiratorio que comp...      36\n",
            "17     alto parana  enfermedades del sistema respiratorio que comp...      34\n",
            "107        capital  enfermedades del sistema respiratorio que comp...      29\n",
            "166        central  otras enfermedades especificadas y afecciones ...      24\n",
            "117        capital  otras enfermedades especificadas y afecciones ...      19\n",
            "..             ...                                                ...     ...\n",
            "171        central  otro aborto completo o no especificado, compli...       1\n",
            "172        central  otro aborto completo o no especificado, con ot...       1\n",
            "174        central                     placenta previa con hemorragia       1\n",
            "175        central                       preeclampsia leve a moderada       1\n",
            "0    alto paraguay  enfermedades del sistema respiratorio que comp...       1\n",
            "\n",
            "[290 rows x 3 columns]\n"
          ]
        }
      ]
    },
    {
      "cell_type": "markdown",
      "source": [
        "**Conteo de muertes agrupadas por mes y año**"
      ],
      "metadata": {
        "id": "p4YizPscYSd5"
      }
    },
    {
      "cell_type": "code",
      "source": [
        "month_year_counts = df.groupby(['mes', 'ano']).size().reset_index(name='counts')\n",
        "\n",
        "# Ordenar los resultados de mayor a menor\n",
        "sorted_month_year_counts = month_year_counts.sort_values(by='counts', ascending=False)\n",
        "\n",
        "# Mostrar el resultado\n",
        "print(\"Conteo de muertes agrupadas por mes y año (ordenado de mayor a menor):\")\n",
        "print(sorted_month_year_counts)"
      ],
      "metadata": {
        "id": "N_Ga4NkF4AHk",
        "outputId": "1ce67746-a130-42f1-e4ae-82f40fd6289d",
        "colab": {
          "base_uri": "https://localhost:8080/"
        }
      },
      "execution_count": null,
      "outputs": [
        {
          "output_type": "stream",
          "name": "stdout",
          "text": [
            "Conteo de muertes agrupadas por mes y año (ordenado de mayor a menor):\n",
            "    mes   ano  counts\n",
            "39    5  2021      33\n",
            "31    4  2021      28\n",
            "47    6  2021      25\n",
            "55    7  2021      18\n",
            "50    7  2016      14\n",
            "..  ...   ...     ...\n",
            "66    9  2016       2\n",
            "8     2  2014       2\n",
            "32    5  2014       2\n",
            "0     1  2014       2\n",
            "93   12  2019       1\n",
            "\n",
            "[96 rows x 3 columns]\n"
          ]
        }
      ]
    },
    {
      "cell_type": "markdown",
      "source": [
        "**Relación entre la edad y la causa de defunción**"
      ],
      "metadata": {
        "id": "cAJFaYgXYWEh"
      }
    },
    {
      "cell_type": "code",
      "source": [
        "\n",
        "grouped_counts = df.groupby(['edad', 'causa básica']).size().reset_index(name='counts')\n",
        "\n",
        "# Ordenar los resultados de mayor a menor\n",
        "sorted_grouped_counts = grouped_counts.sort_values(by='counts', ascending=False)\n",
        "\n",
        "# Mostrar el resultado\n",
        "print(\"Conteo de causas básicas agrupadas por edad (ordenado de mayor a menor):\")\n",
        "print(sorted_grouped_counts)"
      ],
      "metadata": {
        "colab": {
          "base_uri": "https://localhost:8080/"
        },
        "id": "4QqmvKEpYWPX",
        "outputId": "7310e81f-c635-41f8-d6ea-08ad645c85a0"
      },
      "execution_count": null,
      "outputs": [
        {
          "output_type": "stream",
          "name": "stdout",
          "text": [
            "Conteo de causas básicas agrupadas por edad (ordenado de mayor a menor):\n",
            "     edad                                       causa básica  counts\n",
            "307    34  enfermedades del sistema respiratorio que comp...      12\n",
            "289    33  enfermedades del sistema respiratorio que comp...      10\n",
            "201    28  enfermedades del sistema respiratorio que comp...       8\n",
            "403    40  enfermedades del sistema respiratorio que comp...       8\n",
            "196    28                           eclampsia en el embarazo       7\n",
            "..    ...                                                ...     ...\n",
            "179    27  aborto no especificado completo o no especific...       1\n",
            "178    26                                     sindrome hellp       1\n",
            "177    26                                preeclampsia severa       1\n",
            "176    26   otros desprendimientos prematuros de la placenta       1\n",
            "457    51  otras enfermedades especificadas y afecciones ...       1\n",
            "\n",
            "[458 rows x 3 columns]\n"
          ]
        }
      ]
    },
    {
      "cell_type": "markdown",
      "source": [
        "**Diferencias significativas en los fallecimientos maternales entre zonas urbanas y rurales**"
      ],
      "metadata": {
        "id": "_99yDCEwcWxs"
      }
    },
    {
      "cell_type": "code",
      "source": [
        "zona_counts = df['zona'].value_counts()\n",
        "print(\"\\nConteo de muertes por zona:\")\n",
        "print(zona_counts)"
      ],
      "metadata": {
        "colab": {
          "base_uri": "https://localhost:8080/"
        },
        "id": "OiZjtIRMcW3G",
        "outputId": "6ec33236-82ca-4d6a-9237-aa331fb553ae"
      },
      "execution_count": null,
      "outputs": [
        {
          "output_type": "stream",
          "name": "stdout",
          "text": [
            "\n",
            "Conteo de muertes por zona:\n",
            "zona\n",
            "urbana    602\n",
            "rural     138\n",
            "Name: count, dtype: int64\n"
          ]
        }
      ]
    },
    {
      "cell_type": "markdown",
      "source": [
        "**Conteo de edad**"
      ],
      "metadata": {
        "id": "u-DP4kuccXJm"
      }
    },
    {
      "cell_type": "code",
      "source": [
        "edad_counts = df['edad'].value_counts()\n",
        "print(\"\\nConteo de muertes por edad:\")\n",
        "print(edad_counts)"
      ],
      "metadata": {
        "colab": {
          "base_uri": "https://localhost:8080/"
        },
        "id": "OXchR7fScXOv",
        "outputId": "11c1956d-c109-4e76-962d-178fe7a25614"
      },
      "execution_count": null,
      "outputs": [
        {
          "output_type": "stream",
          "name": "stdout",
          "text": [
            "\n",
            "Conteo de muertes por edad:\n",
            "edad\n",
            "34    42\n",
            "33    37\n",
            "35    34\n",
            "32    34\n",
            "19    33\n",
            "21    32\n",
            "29    31\n",
            "28    31\n",
            "25    31\n",
            "38    30\n",
            "39    28\n",
            "31    28\n",
            "24    27\n",
            "23    27\n",
            "27    27\n",
            "22    26\n",
            "30    25\n",
            "37    24\n",
            "40    24\n",
            "18    21\n",
            "26    20\n",
            "41    18\n",
            "36    17\n",
            "17    16\n",
            "20    16\n",
            "16    14\n",
            "42     9\n",
            "43     8\n",
            "45     6\n",
            "15     6\n",
            "14     4\n",
            "47     3\n",
            "44     3\n",
            "13     2\n",
            "46     2\n",
            "49     1\n",
            "50     1\n",
            "51     1\n",
            "48     1\n",
            "Name: count, dtype: int64\n"
          ]
        }
      ]
    },
    {
      "cell_type": "markdown",
      "source": [
        "**Influencia del nivel educativo en la mortalidad maternal**"
      ],
      "metadata": {
        "id": "qP3p3oXkcXWc"
      }
    },
    {
      "cell_type": "code",
      "source": [
        "nivel_educación_counts = df['nivel_educación'].value_counts()\n",
        "print(\"\\nConteo de muertes por nivel_educación:\")\n",
        "print(nivel_educación_counts)"
      ],
      "metadata": {
        "colab": {
          "base_uri": "https://localhost:8080/"
        },
        "id": "cFEMaM6acXb5",
        "outputId": "c375ad6d-397f-45df-ef57-3c9f20795db3"
      },
      "execution_count": null,
      "outputs": [
        {
          "output_type": "stream",
          "name": "stdout",
          "text": [
            "\n",
            "Conteo de muertes por nivel_educación:\n",
            "nivel_educación\n",
            "primaria completa                    138\n",
            "no sabe                              121\n",
            "primaria incompleta                  116\n",
            "esc. media completa                   90\n",
            "secundaria completa                   87\n",
            "esc. básica completa                  80\n",
            "universitaria o superior completa     68\n",
            "ninguno                               40\n",
            "Name: count, dtype: int64\n"
          ]
        }
      ]
    },
    {
      "cell_type": "markdown",
      "source": [
        "**Distribución de fallecimientos por estado civil**"
      ],
      "metadata": {
        "id": "mQdaJ_xVcXhH"
      }
    },
    {
      "cell_type": "code",
      "source": [
        "estado_civil_counts = df['estado_civil'].value_counts()\n",
        "print(\"\\nConteo de muertes por estado_civil:\")\n",
        "print(estado_civil_counts)"
      ],
      "metadata": {
        "colab": {
          "base_uri": "https://localhost:8080/"
        },
        "id": "N6CNAvxOcXlE",
        "outputId": "32b13f28-86ca-4e4d-b2f4-2cae11c30b6d"
      },
      "execution_count": null,
      "outputs": [
        {
          "output_type": "stream",
          "name": "stdout",
          "text": [
            "\n",
            "Conteo de muertes por estado_civil:\n",
            "estado_civil\n",
            "soltero       430\n",
            "unido         164\n",
            "casado        122\n",
            "no sabe        20\n",
            "viudo           2\n",
            "separado        1\n",
            "divorciado      1\n",
            "Name: count, dtype: int64\n"
          ]
        }
      ]
    },
    {
      "cell_type": "markdown",
      "source": [
        "# Implicaciones éticas y legales"
      ],
      "metadata": {
        "id": "X4A6XslHd3Sy"
      }
    },
    {
      "cell_type": "markdown",
      "source": [
        "**Riesgos Potenciales**\n",
        "\n",
        "Discriminacion: El análisis de datos de muertes maternas se podría significativamente discriminar a ciertos grupos demográficos , como ciudades  , departamentos y etnias destacando tasas altas de mortalidad materna generando ciertos estereotipos negativos\n",
        "\n",
        "Privacidad : Aunque los datos son 100% anonimos existe siempre una cierta posibilidad de identificación debido a nivel de detalle de ubicacion, zona y etnia que presenta estos datos  , especialmente en comunidades pequeñas\n",
        "\n",
        "Seguridad: El uso de estos datos puede ser malintencionada para sacar en cara de forma de discriminatoria o de acoso a comunidades pequeñas o grupos específicos\n",
        "\n",
        "○ **Evaluar si el uso del conjunto de datos se ajusta a las leyes y licencias aplicables**\n",
        "\n",
        "El conjuntos de datos seleccionado esta ajustados a las leyes y licencias sobre datos abiertos y personales por los siguientes puntos\n",
        "Visualización Gratuita , abierta y fácil\n",
        "\n",
        "Formato accessible\n",
        "\n",
        "Última fecha de actualización\n",
        "\n",
        "Datos sensibles no publicados como nombre y ubicación del hospital donde ocurrieron las defunciones\n",
        "\n",
        "Datos privados no publicados como lógicamente nombre , dirección específica , edad\n",
        "\n",
        "**○ Proponer medidas para mitigar los riesgos y garantizar el uso ético y responsable de los\n",
        "datos**\n",
        "\n",
        "Generar y proporcionar un contexto adecuado en la presentación de los datos para evitar cualquier tipo de interpretación que conlleve al uso no ético y responsable de los datos.Realizar buenas definiciones el contexto y las circunstancias de los datos.\n",
        "\n",
        "Realizar análisis de impacto obre privacidad y los riesgos antes de publicar ciertos tipos de datos , para identificar posibles riesgos y desarrollar estrategias para acabarlos.\n",
        "\n",
        "ReAsegurar que los datos están completamente anonimizados ,aún con datos extras que generen un patrón para prevenir la identificación de individuos específicos.\n",
        "\n"
      ],
      "metadata": {
        "id": "SOzHWskqd8MI"
      }
    },
    {
      "cell_type": "markdown",
      "source": [
        "# **Conclusión y recomendación.**"
      ],
      "metadata": {
        "id": "PklmFBYVj-6Z"
      }
    },
    {
      "cell_type": "markdown",
      "source": [
        "**Una descripción del conjunto de datos seleccionado y la metodología de análisis\n",
        "utilizada.**\n",
        "\n",
        "El dataset seleccionado de los datos abiertos del Paraguay fue de Defunciones Maternas del 2014 al 2021.Esta base de datos cuenta con mas de 700 registros.\n",
        "Esta base de datos nos trae todas las defunciones maternales del 2014 al 2021 con varios datos extras , cabe recalcar que estos datos totalmente incognitos.\n",
        "\n",
        "**Este es el diccionario de variables original de la base de datos**\n",
        "\n",
        "fechadef-- Fecha de Defunción\n",
        "\n",
        "coddist-Distrito de ocurrencia de la defunción\n",
        "\n",
        "coddpto-Departamento de Ocurrencia de la defunción\n",
        "\n",
        "areadef--Area  de ocurrencia de la defunción\n",
        "\n",
        "esetnia--Etnia(Si aplica)\n",
        "\n",
        "codetnia--codigo de la etnia\n",
        "\n",
        "tipoinst--Sitio de defunción\n",
        "\n",
        "estciv--Estado civil\n",
        "\n",
        "grupoed--Grupo al cual pertenece el Valor de la Edad\n",
        "\n",
        "valedad--Valor de la Edad\n",
        "\n",
        "nivedu--Nivel de Educación\n",
        "\n",
        "coddistr--Departamento de Residencia Habitual del fallecido\n",
        "\n",
        "areares--Area  de residencia habitual\n",
        "\n",
        "tipprofc--El certificado fue espedido por:\n",
        "\n",
        "causa básica--Causa  basica de la Muerte\n",
        "\n",
        "Luego de la limpieza, analisis y algunos cambios , la base de datos queso reducida asi\n",
        "\n",
        "fechadef\n",
        "\n",
        "ano\n",
        "\n",
        "mes\n",
        "\n",
        "nombre_mes\n",
        "\n",
        "departamento\n",
        "\n",
        "zona\n",
        "\n",
        "sitio_defuncion\n",
        "\n",
        "edad\n",
        "\n",
        "nivel_educación\n",
        "\n",
        "estado_civil\n",
        "\n",
        "profesional\n",
        "\n",
        "causa básica\n",
        "\n",
        "La metodologia de analisis fue la siguiente , primeramente de descarto las columnas que podia percibir que se podian obviar como distrito , etnia , codetnia debido al enfoque general que se le aplicara no era necesario tanta exactitud de datos de ubicacion.Lo prosiguiente fue el cambio de nombre de las columnas que quedan para un interpretacion mas rapida y eficiente, como ejemplo de desgloso la columna de fechadef entresacando el numero y nombre del mes y el año para un analisis de tiempo mas especifico y preciso.\n",
        "Luego de eso se aplico el formato correspondiente al csv para poder subir Collab.\n",
        "Una vez subido correctamente nos aseguramos que existe ningun \"Nan\", luego que nos aseguramos de aquello podemos comenzar con el conteo de las diferentes variables que asu vez conmibando el conteo con otras variables como por ejemplo la cantidad de defunciones por año , mes o por tipo de institucion , por zona rural o urbana y asi sucesivamente hasta encontrar ciertos patrones de tiempo para poder las siguientes conclusiones"
      ],
      "metadata": {
        "id": "MveeyjVim_LM"
      }
    },
    {
      "cell_type": "markdown",
      "source": [
        "\n",
        " **Los resultados del análisis de datos, incluyendo visualizaciones y tablas.**\n",
        "\n"
      ],
      "metadata": {
        "id": "Nh3b9g0um_Y0"
      }
    },
    {
      "cell_type": "markdown",
      "source": [
        "1- Distribución de fallecimientos por estado civil"
      ],
      "metadata": {
        "id": "xPzd0BbvnmTL"
      }
    },
    {
      "cell_type": "code",
      "source": [
        "#Tabla\n",
        "estado_civil_counts = df['estado_civil'].value_counts()\n",
        "print(\"\\nConteo de muertes por estado_civil:\")\n",
        "print(estado_civil_counts)"
      ],
      "metadata": {
        "id": "zwH6ScS6nmd_",
        "colab": {
          "base_uri": "https://localhost:8080/"
        },
        "outputId": "0c02a826-bd25-4a2c-e3cd-c15810db958c"
      },
      "execution_count": null,
      "outputs": [
        {
          "output_type": "stream",
          "name": "stdout",
          "text": [
            "\n",
            "Conteo de muertes por estado_civil:\n",
            "estado_civil\n",
            "soltero       430\n",
            "unido         164\n",
            "casado        122\n",
            "no sabe        20\n",
            "viudo           2\n",
            "separado        1\n",
            "divorciado      1\n",
            "Name: count, dtype: int64\n"
          ]
        }
      ]
    },
    {
      "cell_type": "code",
      "source": [
        "#Grafico\n",
        "plt.figure(figsize=(10, 6))\n",
        "\n",
        "# Crear el gráfico de conteo\n",
        "sns.countplot(data=df, x='estado_civil', palette='pastel')\n",
        "\n",
        "# Personalización del gráfico\n",
        "plt.title('Conteo de Muertes por estado civil')\n",
        "plt.xlabel('Estado civil')\n",
        "plt.ylabel('Cantidad de Muertes')\n",
        "plt.xticks(rotation=45)  # Rotar las etiquetas del eje x para mejor lectura\n",
        "plt.grid(True)  # Agregar cuadrícula\n",
        "\n",
        "# Mostrar el gráfico\n",
        "plt.show()"
      ],
      "metadata": {
        "id": "apigmjd7nrVU",
        "colab": {
          "base_uri": "https://localhost:8080/",
          "height": 698
        },
        "outputId": "5add4c2f-587a-42d6-fc42-b0d0690dd23a"
      },
      "execution_count": null,
      "outputs": [
        {
          "output_type": "stream",
          "name": "stderr",
          "text": [
            "<ipython-input-24-7d7a8883ee58>:5: FutureWarning: \n",
            "\n",
            "Passing `palette` without assigning `hue` is deprecated and will be removed in v0.14.0. Assign the `x` variable to `hue` and set `legend=False` for the same effect.\n",
            "\n",
            "  sns.countplot(data=df, x='estado_civil', palette='pastel')\n"
          ]
        },
        {
          "output_type": "display_data",
          "data": {
            "text/plain": [
              "<Figure size 1000x600 with 1 Axes>"
            ],
            "image/png": "[encoded data removed]"
          },
          "metadata": {}
        }
      ]
    },
    {
      "cell_type": "markdown",
      "source": [
        "**Analisis**\n",
        "De este primer grafico lo primero que se puede rescatar la cantidad de Madres solteras que pudieron tener un hijo pero finalemente no lo pudieron , este grafico grafica a la perfeccion como esta compuesta nuestra sociedad con embarazos no deseados , padres que no se hacen cargos y por ultimo la poca cantidad de pareja que contrae matrimonio.Ya que el estado Soltero es el primero en liderar la lista , luego le sigue Unido que se refiere a que la pareja esta junta pero no casada y en la tercera posicion que estan casados y por ultimos le siguen no sabe , viudo , separado y divorciado."
      ],
      "metadata": {
        "id": "UkvS3IAonyAa"
      }
    },
    {
      "cell_type": "markdown",
      "source": [
        "2- Influencia del nivel educativo en la mortalidad maternal"
      ],
      "metadata": {
        "id": "QEkcEniun-bN"
      }
    },
    {
      "cell_type": "code",
      "source": [
        "#Tabla\n",
        "nivel_educación_counts = df['nivel_educación'].value_counts()\n",
        "print(\"\\nConteo de muertes por nivel_educación:\")\n",
        "print(nivel_educación_counts)"
      ],
      "metadata": {
        "id": "60PdL4OKnyA4",
        "colab": {
          "base_uri": "https://localhost:8080/"
        },
        "outputId": "6515e56e-314b-41cc-c2c1-8c6f69f2d591"
      },
      "execution_count": null,
      "outputs": [
        {
          "output_type": "stream",
          "name": "stdout",
          "text": [
            "\n",
            "Conteo de muertes por nivel_educación:\n",
            "nivel_educación\n",
            "primaria completa                    138\n",
            "no sabe                              121\n",
            "primaria incompleta                  116\n",
            "esc. media completa                   90\n",
            "secundaria completa                   87\n",
            "esc. básica completa                  80\n",
            "universitaria o superior completa     68\n",
            "ninguno                               40\n",
            "Name: count, dtype: int64\n"
          ]
        }
      ]
    },
    {
      "cell_type": "code",
      "source": [
        "#Grafico\n",
        "plt.figure(figsize=(10, 6))\n",
        "\n",
        "# Crear el gráfico de conteo\n",
        "sns.countplot(data=df, x='nivel_educación', palette='Pastel2')\n",
        "\n",
        "# Personalización del gráfico\n",
        "plt.title('Conteo de Muertes por nivel educación')\n",
        "plt.xlabel('Nivel de educación')\n",
        "plt.ylabel('Cantidad de Muertes')\n",
        "plt.xticks(rotation=45)  # Rotar las etiquetas del eje x para mejor lectura\n",
        "plt.grid(True)  # Agregar cuadrícula\n",
        "\n",
        "# Mostrar el gráfico\n",
        "plt.show()"
      ],
      "metadata": {
        "id": "b1mU-ELfnyA5",
        "colab": {
          "base_uri": "https://localhost:8080/",
          "height": 811
        },
        "outputId": "bcac22fd-db27-4bf0-bc7e-75e8734b324d"
      },
      "execution_count": null,
      "outputs": [
        {
          "output_type": "stream",
          "name": "stderr",
          "text": [
            "<ipython-input-26-645c09189bd3>:5: FutureWarning: \n",
            "\n",
            "Passing `palette` without assigning `hue` is deprecated and will be removed in v0.14.0. Assign the `x` variable to `hue` and set `legend=False` for the same effect.\n",
            "\n",
            "  sns.countplot(data=df, x='nivel_educación', palette='Pastel2')\n"
          ]
        },
        {
          "output_type": "display_data",
          "data": {
            "text/plain": [
              "<Figure size 1000x600 with 1 Axes>"
            ],
            "image/png": "[encoded data removed]"
          },
          "metadata": {}
        }
      ]
    },
    {
      "cell_type": "markdown",
      "source": [
        "**Analisis**\n",
        "Otro grafico que refleja la realidad de la educacion en el Pais , simplemente trayendo el nivel de educacion que poseia la \"Mama\" por asi decrilo.Aca no es un tema de edad ya que veremos proximamente que la mayoria son de 30 a 35.\n",
        "En los peores escenarios de nivel educacion son los que lideran el grafico :\n",
        "solo la primaria complete con 18% ,no sabe su nivel de educacion con 16% y luego con la primaria incompleta con 15%.Una situacion realmente grave que solo el 11% haya terminado la secundaria y que el 9% poseia estudio superiores o Universitarios completo.La hipotesis que se puede sacar a todo esto es que la educacion no esta siendo posible que llegue a todas las personas del pais , siendo  esta una variable secundaria dentro de todo este tema."
      ],
      "metadata": {
        "id": "w554c0GcnuwY"
      }
    },
    {
      "cell_type": "markdown",
      "source": [
        "3- Conteo de edad"
      ],
      "metadata": {
        "id": "BO_1xL70oAhK"
      }
    },
    {
      "cell_type": "code",
      "source": [
        "#Tabla\n",
        "edad_counts = df['edad'].value_counts()\n",
        "print(\"\\nConteo de muertes por edad:\")\n",
        "print(edad_counts.head(10))"
      ],
      "metadata": {
        "id": "JmwZMqBLoAht",
        "colab": {
          "base_uri": "https://localhost:8080/"
        },
        "outputId": "a193a88b-3cf3-412e-c85e-f6d3408ba78c"
      },
      "execution_count": null,
      "outputs": [
        {
          "output_type": "stream",
          "name": "stdout",
          "text": [
            "\n",
            "Conteo de muertes por edad:\n",
            "edad\n",
            "34    42\n",
            "33    37\n",
            "35    34\n",
            "32    34\n",
            "19    33\n",
            "21    32\n",
            "29    31\n",
            "28    31\n",
            "25    31\n",
            "38    30\n",
            "Name: count, dtype: int64\n"
          ]
        }
      ]
    },
    {
      "cell_type": "code",
      "source": [
        "#Grafico\n",
        "plt.figure(figsize=(10, 6))\n",
        "\n",
        "# Crear el gráfico de conteo\n",
        "sns.countplot(data=df, x='edad', palette='Reds')\n",
        "\n",
        "# Personalización del gráfico\n",
        "plt.title('Conteo de Muertes por Edad')\n",
        "plt.xlabel('Edad')\n",
        "plt.ylabel('Cantidad de Muertes')\n",
        "plt.xticks(rotation=45)  # Rotar las etiquetas del eje x para mejor lectura\n",
        "plt.grid(True)  # Agregar cuadrícula\n",
        "\n",
        "# Mostrar el gráfico\n",
        "plt.show()"
      ],
      "metadata": {
        "id": "9g3rMHKzoAht",
        "colab": {
          "base_uri": "https://localhost:8080/",
          "height": 660
        },
        "outputId": "fcdb8774-2bc9-45b1-c363-ae2f1a7c1da2"
      },
      "execution_count": null,
      "outputs": [
        {
          "output_type": "stream",
          "name": "stderr",
          "text": [
            "<ipython-input-28-64455e8dadac>:5: FutureWarning: \n",
            "\n",
            "Passing `palette` without assigning `hue` is deprecated and will be removed in v0.14.0. Assign the `x` variable to `hue` and set `legend=False` for the same effect.\n",
            "\n",
            "  sns.countplot(data=df, x='edad', palette='Reds')\n"
          ]
        },
        {
          "output_type": "display_data",
          "data": {
            "text/plain": [
              "<Figure size 1000x600 with 1 Axes>"
            ],
            "image/png": "[encoded data removed]"
          },
          "metadata": {}
        }
      ]
    },
    {
      "cell_type": "markdown",
      "source": [
        "**Analisis**\n",
        "En este grafico si se puede observar un patron que la mayoria de estas defunciones maternales se encuentran entre 32 a 35 años,con la edad que mas repetida de 34 con 5% , luego 33 años con 5 % igualmente , 35 años con 4% ,32 años con 4% igual igualmente y finalmente 19 años con 4%.Estas edades conformarian el top 5 de edades en las defunciones maternales.La hipotesis que se puede sacar de esto es que luego de 31 años el embarazo tiene a complicarse hasta resultar en lo peor que es el falleciemiento , pero esto acaba hasta los 35 años ya que con 36 años la escala disminuye abruptamente .Luego el caso 19 años que vendria ser un caso aislado ya que para los 18 y 20 años baja igualmente de gran forma, entonces los 19 presentan una complicacion para el periodo de embarazo"
      ],
      "metadata": {
        "id": "zTo2P97JoAhu"
      }
    },
    {
      "cell_type": "markdown",
      "source": [
        "4- Conteo de muertes agrupadas por mes y año"
      ],
      "metadata": {
        "id": "_owUjORxoHRQ"
      }
    },
    {
      "cell_type": "code",
      "source": [
        "#Tabla\n",
        "month_year_counts = df.groupby(['nombre_mes', 'ano']).size().reset_index(name='counts')\n",
        "\n",
        "# Ordenar los resultados de mayor a menor\n",
        "sorted_month_year_counts = month_year_counts.sort_values(by='counts', ascending=False)\n",
        "\n",
        "# Mostrar el resultado\n",
        "print(\"Conteo de muertes agrupadas por mes y año (ordenado de mayor a menor):\")\n",
        "print(sorted_month_year_counts.head(5))"
      ],
      "metadata": {
        "id": "4UFas-OloHRQ",
        "colab": {
          "base_uri": "https://localhost:8080/"
        },
        "outputId": "231063f9-484b-4235-d895-7e2b0df11ef5"
      },
      "execution_count": null,
      "outputs": [
        {
          "output_type": "stream",
          "name": "stdout",
          "text": [
            "Conteo de muertes agrupadas por mes y año (ordenado de mayor a menor):\n",
            "   nombre_mes   ano  counts\n",
            "71        may  2021      33\n",
            "7         abr  2021      28\n",
            "55        jun  2021      25\n",
            "47        jul  2021      18\n",
            "42        jul  2016      14\n"
          ]
        }
      ]
    },
    {
      "cell_type": "code",
      "source": [
        "top_month_year_counts = sorted_month_year_counts.head(5)\n",
        "\n",
        "# Crear el histograma\n",
        "plt.bar(range(len(top_month_year_counts)), top_month_year_counts['counts'], color='skyblue')\n",
        "\n",
        "# Agregar etiquetas a los ejes\n",
        "plt.xlabel('Mes y Año')\n",
        "plt.ylabel('Recuento de Muertes')\n",
        "\n",
        "# Agregar título al gráfico\n",
        "plt.title('Top 5 de Meses con Más Muertes')\n",
        "\n",
        "# Cambiar las etiquetas del eje x para que muestren el mes y el año\n",
        "plt.xticks(range(len(top_month_year_counts)), [f\"{row['nombre_mes']} {row['ano']}\" for _, row in top_month_year_counts.iterrows()], rotation=45)\n",
        "\n",
        "# Mostrar el histograma\n",
        "plt.tight_layout()\n",
        "plt.show()"
      ],
      "metadata": {
        "id": "0FUWabmGoHRR",
        "colab": {
          "base_uri": "https://localhost:8080/",
          "height": 487
        },
        "outputId": "4aa70754-c444-4ef9-ecbd-830ae0b3311a"
      },
      "execution_count": null,
      "outputs": [
        {
          "output_type": "display_data",
          "data": {
            "text/plain": [
              "<Figure size 640x480 with 1 Axes>"
            ],
            "image/png": "[encoded data removed]"
          },
          "metadata": {}
        }
      ]
    },
    {
      "cell_type": "markdown",
      "source": [
        "**Analisis**\n",
        "\n",
        "Debido a que no hay datos del tiempo de duracion que tuvo el embarazo o si llego a dar luz cuando ocurrio la defuncion.La hipotesis es la siguiente , tanto si se toma el tiempo de embarazo promedio como los pocos dias luego de la concepcion se obtiene un comun denominador que es la cuarentena , el tiempo extendido en casa donde no se podia salir en los 2020 y hasta el intermedio de los 2021 genero a nivel pais gran cantidad de embarazos , por eso es debido la seguidilla de meses del 2021 que aparece el grafico sin contar el caso aislado que es Julio de 2016"
      ],
      "metadata": {
        "id": "uJ-atxhYoHRR"
      }
    },
    {
      "cell_type": "markdown",
      "source": [
        "5- Contar las muertes por año"
      ],
      "metadata": {
        "id": "1W1Mj9EloHpQ"
      }
    },
    {
      "cell_type": "code",
      "source": [
        "#Tabla\n",
        "ano_counts = df['ano'].value_counts()\n",
        "print(\"\\nConteo de muertes por año:\")\n",
        "print(ano_counts)"
      ],
      "metadata": {
        "id": "xB-jO7HdoHpS",
        "colab": {
          "base_uri": "https://localhost:8080/"
        },
        "outputId": "a0863a66-f0fc-4ca4-b4e2-f31d0b7ecd10"
      },
      "execution_count": null,
      "outputs": [
        {
          "output_type": "stream",
          "name": "stdout",
          "text": [
            "\n",
            "Conteo de muertes por año:\n",
            "ano\n",
            "2021    166\n",
            "2016     96\n",
            "2015     95\n",
            "2020     81\n",
            "2018     79\n",
            "2017     78\n",
            "2019     73\n",
            "2014     72\n",
            "Name: count, dtype: int64\n"
          ]
        }
      ]
    },
    {
      "cell_type": "code",
      "source": [
        "#Grafico\n",
        "#Grafico\n",
        "plt.figure(figsize=(10, 6))\n",
        "\n",
        "# Crear el gráfico de conteo\n",
        "sns.countplot(data=df, x='ano', palette='Set1')\n",
        "\n",
        "# Personalización del gráfico\n",
        "plt.title('Conteo de Muertes por año')\n",
        "plt.xlabel('Nivel de educación')\n",
        "plt.ylabel('Cantidad de Muertes')\n",
        "plt.xticks(rotation=45)  # Rotar las etiquetas del eje x para mejor lectura\n",
        "plt.grid(True)  # Agregar cuadrícula\n",
        "\n",
        "# Mostrar el gráfico\n",
        "plt.show()"
      ],
      "metadata": {
        "id": "F_qY5H5QoHpS",
        "colab": {
          "base_uri": "https://localhost:8080/",
          "height": 672
        },
        "outputId": "ba93a834-976a-47b3-e57e-f72fdbb9863c"
      },
      "execution_count": null,
      "outputs": [
        {
          "output_type": "stream",
          "name": "stderr",
          "text": [
            "<ipython-input-32-93a62b8b5a32>:6: FutureWarning: \n",
            "\n",
            "Passing `palette` without assigning `hue` is deprecated and will be removed in v0.14.0. Assign the `x` variable to `hue` and set `legend=False` for the same effect.\n",
            "\n",
            "  sns.countplot(data=df, x='ano', palette='Set1')\n"
          ]
        },
        {
          "output_type": "display_data",
          "data": {
            "text/plain": [
              "<Figure size 1000x600 with 1 Axes>"
            ],
            "image/png": "[encoded data removed]"
          },
          "metadata": {}
        }
      ]
    },
    {
      "cell_type": "markdown",
      "source": [
        "**Analisis**\n",
        "En este grafico se puede evidenciar mas aun la hipotesis, se puede observar que desde el 2014 al 2020 todo iba normal sin ningun aumento fuera de lo comun pero nuevamente el 2021 siendo la excepcion por todo el tema del encierro en casa que hizo que existan mas concepciones en los hogares , el 2021 con 166 defunciones es el 22% , 70 defunciones mas que el top 2 que es 2016 y 71 mas que el 2015"
      ],
      "metadata": {
        "id": "MwwSjyhboHpT"
      }
    },
    {
      "cell_type": "markdown",
      "source": [
        "6- Contar las muertes por mes"
      ],
      "metadata": {
        "id": "wbo2RAkIoIOD"
      }
    },
    {
      "cell_type": "code",
      "source": [
        "#Tabla\n",
        "causa_basica_counts = df['nombre_mes'].value_counts()\n",
        "print(\"\\nConteo de muertes por mes:\")\n",
        "print(causa_basica_counts)"
      ],
      "metadata": {
        "id": "iIOxYl9BoIOD",
        "colab": {
          "base_uri": "https://localhost:8080/"
        },
        "outputId": "838fa9de-c958-434e-dd71-33ad028630e5"
      },
      "execution_count": null,
      "outputs": [
        {
          "output_type": "stream",
          "name": "stdout",
          "text": [
            "\n",
            "Conteo de muertes por mes:\n",
            "nombre_mes\n",
            "abr    92\n",
            "may    81\n",
            "jun    76\n",
            "jul    76\n",
            "mar    67\n",
            "feb    57\n",
            "oct    51\n",
            "nov    51\n",
            "ago    50\n",
            "sep    47\n",
            "ene    46\n",
            "dic    46\n",
            "Name: count, dtype: int64\n"
          ]
        }
      ]
    },
    {
      "cell_type": "code",
      "source": [
        "#Grafico\n",
        "#Grafico\n",
        "plt.figure(figsize=(10, 6))\n",
        "\n",
        "# Crear el gráfico de conteo\n",
        "sns.countplot(data=df, x='nombre_mes', palette='Set3')\n",
        "\n",
        "# Personalización del gráfico\n",
        "plt.title('Conteo de Muertes por mes')\n",
        "plt.xlabel('Mes')\n",
        "plt.ylabel('Cantidad de Muertes')\n",
        "plt.xticks(rotation=45)  # Rotar las etiquetas del eje x para mejor lectura\n",
        "plt.grid(True)  # Agregar cuadrícula\n",
        "\n",
        "# Mostrar el gráfico\n",
        "plt.show()"
      ],
      "metadata": {
        "id": "sOqmaumsoIOE",
        "colab": {
          "base_uri": "https://localhost:8080/",
          "height": 668
        },
        "outputId": "f6082cc9-eaa9-479a-a67b-9fec67d65311"
      },
      "execution_count": null,
      "outputs": [
        {
          "output_type": "stream",
          "name": "stderr",
          "text": [
            "<ipython-input-34-811533acab88>:6: FutureWarning: \n",
            "\n",
            "Passing `palette` without assigning `hue` is deprecated and will be removed in v0.14.0. Assign the `x` variable to `hue` and set `legend=False` for the same effect.\n",
            "\n",
            "  sns.countplot(data=df, x='nombre_mes', palette='Set3')\n"
          ]
        },
        {
          "output_type": "display_data",
          "data": {
            "text/plain": [
              "<Figure size 1000x600 with 1 Axes>"
            ],
            "image/png": "[encoded data removed]"
          },
          "metadata": {}
        }
      ]
    },
    {
      "cell_type": "markdown",
      "source": [
        "**Analisis**\n",
        "\n",
        "El patron que se puede evidenciar que los meses que mas hubo defunciones son 4 meses de seguido que es Abril , Mayo , Junio y Julio , en ese mismo orden.Si se da la suposicion que estos embarazos duraron un promedio de 9 meses se puede decir con certeza que la mayoria de estas concepciones se dieron desde la mitad del año pasado para adelante , es decir los meses de concepcion mas comunes de esta estadistica se dio entre Junio y Setiembre del año pasado."
      ],
      "metadata": {
        "id": "7adMC4Z-oIOE"
      }
    },
    {
      "cell_type": "markdown",
      "source": [
        "7- Contar las muertes por causa básica"
      ],
      "metadata": {
        "id": "EbnFaoULoItK"
      }
    },
    {
      "cell_type": "code",
      "source": [
        "#Tabla\n",
        "causa_basica_counts = df['causa básica'].value_counts()\n",
        "print(\"\\nConteo de muertes por causa básica:\")\n",
        "print(causa_basica_counts.head(5))"
      ],
      "metadata": {
        "id": "xTY2Y5lnoItL",
        "colab": {
          "base_uri": "https://localhost:8080/"
        },
        "outputId": "caf7572e-48b8-430d-a4cf-c128a8b4d8b1"
      },
      "execution_count": null,
      "outputs": [
        {
          "output_type": "stream",
          "name": "stdout",
          "text": [
            "\n",
            "Conteo de muertes por causa básica:\n",
            "causa básica\n",
            "enfermedades del sistema respiratorio que complican el embarazo, el parto y el puerperio            134\n",
            "otras hemorragias postparto inmediatas                                                               65\n",
            "otras enfermedades especificadas y afecciones que complican el embarazo, el parto y el puerperio     57\n",
            "eclampsia en el embarazo                                                                             44\n",
            "aborto no especificado completo o no especificado, complicado con infeccion genital y pelviana       38\n",
            "Name: count, dtype: int64\n"
          ]
        }
      ]
    },
    {
      "cell_type": "code",
      "source": [
        "import textwrap\n",
        "\n",
        "# Calcular el top 5 de causas básicas con más muertes\n",
        "top_causes = df['causa básica'].value_counts().head(5)\n",
        "\n",
        "# Filtrar el DataFrame original para incluir solo las filas con las causas básicas del top 5\n",
        "df_top5 = df[df['causa básica'].isin(top_causes.index)]\n",
        "\n",
        "# Crear el gráfico de conteo\n",
        "plt.figure(figsize=(10, 6))\n",
        "ax = sns.countplot(data=df_top5, x='causa básica', palette='Set2')\n",
        "\n",
        "# Personalización del gráfico\n",
        "plt.title('Top 5 de Causas Básicas con Más Muertes')\n",
        "plt.xlabel('Causa Básica')\n",
        "plt.ylabel('Cantidad de Muertes')\n",
        "plt.grid(True)  # Agregar cuadrícula\n",
        "\n",
        "# Ajustar etiquetas del eje x\n",
        "labels = ax.get_xticklabels()\n",
        "new_labels = [textwrap.fill(label.get_text(), 15) for label in labels]\n",
        "ax.set_xticklabels(new_labels, rotation=0)\n",
        "\n",
        "# Mostrar el gráfico\n",
        "plt.show()"
      ],
      "metadata": {
        "colab": {
          "base_uri": "https://localhost:8080/",
          "height": 800
        },
        "id": "ATPDDBJzexSe",
        "outputId": "166dbb88-768b-49c1-abc7-b4ad749ca79a"
      },
      "execution_count": null,
      "outputs": [
        {
          "output_type": "stream",
          "name": "stderr",
          "text": [
            "<ipython-input-38-89e956d53ac9>:11: FutureWarning: \n",
            "\n",
            "Passing `palette` without assigning `hue` is deprecated and will be removed in v0.14.0. Assign the `x` variable to `hue` and set `legend=False` for the same effect.\n",
            "\n",
            "  ax = sns.countplot(data=df_top5, x='causa básica', palette='Set2')\n",
            "<ipython-input-38-89e956d53ac9>:22: UserWarning: FixedFormatter should only be used together with FixedLocator\n",
            "  ax.set_xticklabels(new_labels, rotation=0)\n"
          ]
        },
        {
          "output_type": "display_data",
          "data": {
            "text/plain": [
              "<Figure size 1000x600 with 1 Axes>"
            ],
            "image/png": "[encoded data removed]"
          },
          "metadata": {}
        }
      ]
    },
    {
      "cell_type": "markdown",
      "source": [
        "**Analisis**\n",
        "\n",
        "Analizando las causas basicas de estas defunciones se puede observar una alta mayoria en una causa sobre todo que son \"Las enfermedades del sistema respiratorio que causaron complicaciones en el embarazo, parto y el puerperio\" que alcanza 18% mientras las otras causas como hemorragias y enfermedades especificas tienen solamente entre 5 a 8 % en esta estadistica.Investigando las razones de \"enfermedades respiratorias durante el embarazo y/o pauperio , lo cual la razon principal son \"Los cambios que se producen en el sistema inmunitario, el corazón y los pulmones durante el embarazo pueden aumentar el riesgo de enfermarse gravemente a causa de los virus respiratorios\" entonces se puede decir que nuestro pais o ambiente presenta una carga de viral alta en todos lados para que este sea la causa basica lider de las defunciones maternales"
      ],
      "metadata": {
        "id": "Iq8xBKt1oItM"
      }
    },
    {
      "cell_type": "markdown",
      "source": [
        " **Una discusión de las implicaciones éticas y legales del uso del conjunto de\n",
        "datos**\n",
        "\n",
        "Las implicacion etica que podria tener mi tema mencionado anteriormente que seria crear un especia de \"estigma\" o un cierta \"discriminacion\" a ciertos sectores de la sociedad basandose la edad , su nivel de educacion o por el departamento que vive puede generar ciertos malestares si esto ocurre asi , por su parte el dataset cumple con todos los requisitos para que esto no sea como proporcionar el formato correcto ,la confidencialidad y la transparencia.\n",
        "En el torno legal de igual manera se encuentra en regla con la  Ley N° 6534/2020 de Protección de Datos Personales en Paraguay y con las debidas licencias, lo que se debe trabajar con estos datos es para que este numero de defunciones disminuya analizando a fondo estos datos para evitar mas fallecimientos maternales"
      ],
      "metadata": {
        "id": "1cM1lj9JnAk9"
      }
    },
    {
      "cell_type": "markdown",
      "source": [
        "\n",
        "**Conclusiones y recomendaciones.**\n",
        "\n",
        "Se puede realizar varias conclusiones , empezando que el departamento central y la Capital es donde se presenta mas concentracion de gente debido que entre 2 localalidas se presento la mayoria de defunciones.Luego que la causa que mas llevo vidas fueron las enfermedades respiratorias debido a la alta carga viral que se encuentra en el pais y por los cambios del sistema inmunitario de la Mujer ,luego que los meses de mayor concepcion fueron de Junio a Setiembre considerando que las defunciones posteriores fueron despues de los 9 meses.\n",
        "El 2021 fue el lider por la cantidad de defunciones considerando la situacion de la cuarentena de aquella epoca que hubiero mayor numero de concepciones que a su vez genero mayor numero de defunciones.Por consiguiente se pudo evidenciar como tema externo que el que nivel de educacion es muy pobre en Paraguay sin mencionar que no llega a toda la poblacion ya que simplemente estos estudios no nos mostraron que mas del 50% ni siquiera cursaron la secundaria.Por ultimo se pudo deducir que entre los 32 a 35 años fueron donde mas defunciones ocurrieron.Se deberia estudiar y hacer algo al respecto para que este numero vaya disminuyendo lo maximo que se pueda"
      ],
      "metadata": {
        "id": "1TfrANR3nAqq"
      }
    }
  ]
}